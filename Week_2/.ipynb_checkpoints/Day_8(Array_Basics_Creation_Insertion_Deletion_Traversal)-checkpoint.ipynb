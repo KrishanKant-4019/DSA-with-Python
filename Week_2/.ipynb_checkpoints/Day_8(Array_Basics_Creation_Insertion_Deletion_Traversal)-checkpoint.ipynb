{
 "cells": [
  {
   "cell_type": "code",
   "execution_count": 13,
   "id": "6497d1c5-aed9-4dae-8925-bd7e789a1537",
   "metadata": {},
   "outputs": [
    {
     "name": "stdout",
     "output_type": "stream",
     "text": [
      "0 : 10\n",
      "1 : 20\n",
      "2 : 30\n",
      "3 : 40\n",
      "4 : 50\n"
     ]
    }
   ],
   "source": [
    "# Print all elements of an array along with their index.\n",
    "arr = [10, 20, 30, 40, 50]\n",
    "for index, value in enumerate(arr):\n",
    "    print(f\"{index} : {value}\")"
   ]
  },
  {
   "cell_type": "code",
   "execution_count": 12,
   "id": "d4154be8-6abe-415f-930c-505ef0081b37",
   "metadata": {},
   "outputs": [
    {
     "name": "stdout",
     "output_type": "stream",
     "text": [
      "50 40 30 20 10 "
     ]
    }
   ],
   "source": [
    "# Print the array in reverse order without using [::-1]\n",
    "arr = [10, 20, 30, 40, 50] \n",
    "for i in range(len(arr)-1, -1, -1):\n",
    "    print(arr[i], end = \" \")"
   ]
  },
  {
   "cell_type": "code",
   "execution_count": 3,
   "id": "146f89af-8bc7-4dd2-9a8b-25fe0f49b331",
   "metadata": {},
   "outputs": [
    {
     "name": "stdout",
     "output_type": "stream",
     "text": [
      "Sum: 30\n",
      "Average: 6.0\n"
     ]
    }
   ],
   "source": [
    "# Find the sum and average of all elements in [2,4,6,8,10].\n",
    "arr = [2, 4, 6, 8, 10]\n",
    "\n",
    "arr_sum = 0\n",
    "for i in arr:\n",
    "    arr_sum += i\n",
    "\n",
    "average = arr_sum / len(arr)\n",
    "\n",
    "print(\"Sum:\", arr_sum)\n",
    "print(\"Average:\", average)"
   ]
  },
  {
   "cell_type": "code",
   "execution_count": 5,
   "id": "ab92c206-5674-42a5-accd-731be9ec7704",
   "metadata": {},
   "outputs": [
    {
     "name": "stdout",
     "output_type": "stream",
     "text": [
      "[1, 2, 3, 4, 5]\n"
     ]
    }
   ],
   "source": [
    "# Given an array [1,2,3,4], insert 5 at the end and print the new array.\n",
    "arr = [1, 2, 3, 4]\n",
    "arr.append(5)\n",
    "print(arr)"
   ]
  },
  {
   "cell_type": "code",
   "execution_count": 6,
   "id": "2b26041f-86c5-448f-affe-480096c28cc5",
   "metadata": {},
   "outputs": [
    {
     "name": "stdout",
     "output_type": "stream",
     "text": [
      "[10, 20, 99, 40, 50]\n"
     ]
    }
   ],
   "source": [
    "# Insert 99 at index 2 in [10,20,30,40].\n",
    "arr = [10, 20, 30, 40, 50]\n",
    "arr[2] = 99\n",
    "print(arr)"
   ]
  },
  {
   "cell_type": "code",
   "execution_count": 8,
   "id": "1d238280-9847-490d-8f6d-1a92b209f1b4",
   "metadata": {},
   "outputs": [
    {
     "name": "stdout",
     "output_type": "stream",
     "text": [
      "1 2 3 4 5 6 7 8 9 10 "
     ]
    }
   ],
   "source": [
    "# Start with an empty array. Insert numbers 1 to 10 using a loop.\n",
    "arr = []\n",
    "for i in range(1, 11):\n",
    "    arr.append(i)\n",
    "    print(i, end = \" \")"
   ]
  },
  {
   "cell_type": "code",
   "execution_count": 11,
   "id": "73442ef4-0cbd-4741-855a-8a2d1a76fdd7",
   "metadata": {},
   "outputs": [
    {
     "name": "stdout",
     "output_type": "stream",
     "text": [
      "[10, 20, 50, 60, 70, 30, 40]\n",
      "50\n"
     ]
    }
   ],
   "source": [
    "# Insert multiple values [50,60,70] into [10,20,30,40] at index 2.\n",
    "arr = [10, 20, 30, 40]\n",
    "arr[2:2] = [50, 60, 70]\n",
    "print(arr)"
   ]
  },
  {
   "cell_type": "code",
   "execution_count": 16,
   "id": "e43fab38-b3b7-41be-ac19-8246808fdfcc",
   "metadata": {},
   "outputs": [
    {
     "name": "stdout",
     "output_type": "stream",
     "text": [
      "[5, 10, 15, 25]\n"
     ]
    }
   ],
   "source": [
    "# Delete the element at index 3 from [5,10,15,20,25].\n",
    "arr = [5, 10, 15, 20, 25]\n",
    "arr.pop(3)\n",
    "print(arr)"
   ]
  },
  {
   "cell_type": "code",
   "execution_count": 19,
   "id": "cb09b6dc-e1c1-493e-a28a-8bfb3cb1fbbe",
   "metadata": {},
   "outputs": [
    {
     "name": "stdout",
     "output_type": "stream",
     "text": [
      "[10, 20, 30, 50]\n"
     ]
    }
   ],
   "source": [
    "# Delete the value 40 from [10,20,30,40,50].\n",
    "arr = [10, 20, 30, 40, 50]\n",
    "arr.remove(40)\n",
    "print(arr)"
   ]
  },
  {
   "cell_type": "code",
   "execution_count": 21,
   "id": "7cbaacc4-5b8a-4cda-b253-dcec1eeaf513",
   "metadata": {},
   "outputs": [
    {
     "name": "stdout",
     "output_type": "stream",
     "text": [
      "[1, 2, 3, 4, 5]\n"
     ]
    }
   ],
   "source": [
    "# Remove all duplicate elements from [1,2,2,3,4,4,5].\n",
    "arr = [1, 2, 2, 3, 4, 4, 5]\n",
    "new_arr = []\n",
    "\n",
    "for num in arr:\n",
    "    if num not in new_arr:   \n",
    "        new_arr.append(num)\n",
    "\n",
    "print(new_arr)"
   ]
  },
  {
   "cell_type": "code",
   "execution_count": 27,
   "id": "2d3dd5d5-510f-4a3e-8c2e-f05061427e40",
   "metadata": {},
   "outputs": [
    {
     "name": "stdout",
     "output_type": "stream",
     "text": [
      "3\n"
     ]
    }
   ],
   "source": [
    "# Count how many times 2 appears in [1,2,2,2,3,4,5].\n",
    "arr = [1, 2, 2, 2, 3, 4, 5]\n",
    "number = 2\n",
    "count = 0\n",
    "\n",
    "for num in arr:\n",
    "    if num == number:\n",
    "        count += 1\n",
    "print(count)"
   ]
  },
  {
   "cell_type": "code",
   "execution_count": 30,
   "id": "77b1c9db-71e8-4ab3-bf2e-ea414a123c83",
   "metadata": {},
   "outputs": [
    {
     "name": "stdout",
     "output_type": "stream",
     "text": [
      "Maximum: 9\n",
      "Minimum: 2\n"
     ]
    }
   ],
   "source": [
    "# Find the maximum and minimum elements in [3,7,2,9,5].\n",
    "arr = [3, 7, 2, 9, 5]\n",
    "min_value = max_value = arr[0]\n",
    "\n",
    "for num in arr:\n",
    "    if num > max_value:\n",
    "        max_value = num\n",
    "    if num < min_value:\n",
    "        min_value = num\n",
    "\n",
    "print(\"Maximum:\", max_value)\n",
    "print(\"Minimum:\", min_value)"
   ]
  },
  {
   "cell_type": "code",
   "execution_count": 1,
   "id": "8a2accd8-1373-48bd-b75f-2db516d118a3",
   "metadata": {},
   "outputs": [
    {
     "name": "stdout",
     "output_type": "stream",
     "text": [
      "[100, 500, 300]\n"
     ]
    }
   ],
   "source": [
    "# Change the value at index 1 of [100,200,300] to 500.\n",
    "arr = [100, 200, 300]\n",
    "arr[1] = 500\n",
    "print(arr)"
   ]
  },
  {
   "cell_type": "code",
   "execution_count": 5,
   "id": "3bfa47b3-5807-491f-8073-b3dd5e86a8db",
   "metadata": {},
   "outputs": [
    {
     "name": "stdout",
     "output_type": "stream",
     "text": [
      "[2, 0, 6, 0, 10]\n"
     ]
    }
   ],
   "source": [
    "# Replace all negative numbers in [2, -4, 6, -8, 10] with 0.\n",
    "arr = [2, -4, 6, -8, 10]\n",
    "for i in range(len(arr)):\n",
    "    if arr[i] < 0:\n",
    "        arr[i] = 0\n",
    "\n",
    "print(arr)"
   ]
  },
  {
   "cell_type": "code",
   "execution_count": 8,
   "id": "6dc360e2-ec3a-49da-a1ee-c9beef7b044e",
   "metadata": {},
   "outputs": [
    {
     "name": "stdout",
     "output_type": "stream",
     "text": [
      "[2, 4, 6, 8, 10]\n"
     ]
    }
   ],
   "source": [
    "# Double every element in [1,2,3,4,5].\n",
    "arr = [1, 2, 3, 4, 5]\n",
    "\n",
    "for i in range(len(arr)):\n",
    "    arr[i] = arr[i] * 2\n",
    "\n",
    "print(arr)"
   ]
  }
 ],
 "metadata": {
  "kernelspec": {
   "display_name": "Python [conda env:base] *",
   "language": "python",
   "name": "conda-base-py"
  },
  "language_info": {
   "codemirror_mode": {
    "name": "ipython",
    "version": 3
   },
   "file_extension": ".py",
   "mimetype": "text/x-python",
   "name": "python",
   "nbconvert_exporter": "python",
   "pygments_lexer": "ipython3",
   "version": "3.12.4"
  }
 },
 "nbformat": 4,
 "nbformat_minor": 5
}
