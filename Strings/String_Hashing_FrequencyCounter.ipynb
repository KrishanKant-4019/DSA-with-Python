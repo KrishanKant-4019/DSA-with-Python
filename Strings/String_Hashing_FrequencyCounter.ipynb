{
 "cells": [
  {
   "cell_type": "markdown",
   "id": "52649ee6-969c-4b05-bca8-ea8969ca31d9",
   "metadata": {},
   "source": [
    "# String Hashing"
   ]
  },
  {
   "cell_type": "markdown",
   "id": "d6fb5a9b-64fd-49b3-a7f6-9394957f15da",
   "metadata": {},
   "source": [
    "#### Built-in Hash"
   ]
  },
  {
   "cell_type": "code",
   "execution_count": 1,
   "id": "7620c6e5-a19b-47a0-8aa9-5cc563e1fe66",
   "metadata": {},
   "outputs": [
    {
     "name": "stdout",
     "output_type": "stream",
     "text": [
      "1912764441271398587\n",
      "6417864028291870933\n"
     ]
    }
   ],
   "source": [
    "s1 = \"Hello\"\n",
    "s2 = \"World\"\n",
    "\n",
    "print(hash(s1))\n",
    "print(hash(s2))"
   ]
  },
  {
   "cell_type": "code",
   "execution_count": null,
   "id": "7f9ce949-41b5-4042-844f-07009f245797",
   "metadata": {},
   "outputs": [],
   "source": []
  }
 ],
 "metadata": {
  "kernelspec": {
   "display_name": "Python 3 (ipykernel)",
   "language": "python",
   "name": "python3"
  },
  "language_info": {
   "codemirror_mode": {
    "name": "ipython",
    "version": 3
   },
   "file_extension": ".py",
   "mimetype": "text/x-python",
   "name": "python",
   "nbconvert_exporter": "python",
   "pygments_lexer": "ipython3",
   "version": "3.12.4"
  }
 },
 "nbformat": 4,
 "nbformat_minor": 5
}
