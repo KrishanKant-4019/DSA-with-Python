{
 "cells": [
  {
   "cell_type": "markdown",
   "id": "c8b3b9f6-220a-472e-81b9-62d385f78c4b",
   "metadata": {},
   "source": [
    "# String Creation"
   ]
  },
  {
   "cell_type": "code",
   "execution_count": 4,
   "id": "42c302b1-000d-43d3-8e46-5d887f413fa0",
   "metadata": {},
   "outputs": [
    {
     "name": "stdout",
     "output_type": "stream",
     "text": [
      "hello\n",
      "hello\n",
      "Hello,\n",
      "Good Morning\n"
     ]
    }
   ],
   "source": [
    "# Different ways of creating strings\n",
    "s1 = 'hello'\n",
    "s2 = \"hello\"\n",
    "s3 = '''Hello,\n",
    "Good Morning'''\n",
    "\n",
    "print(s1)\n",
    "print(s2)\n",
    "print(s3)"
   ]
  },
  {
   "cell_type": "markdown",
   "id": "b188cbac-57f6-4525-a72a-44cf02c62d10",
   "metadata": {},
   "source": [
    "# String Indexing"
   ]
  },
  {
   "cell_type": "code",
   "execution_count": 10,
   "id": "29c960d4-a49e-4cc6-b5ff-9a10d9e1e6c0",
   "metadata": {},
   "outputs": [
    {
     "name": "stdout",
     "output_type": "stream",
     "text": [
      "p\n",
      "n\n",
      "o\n",
      "h\n"
     ]
    }
   ],
   "source": [
    "s = \"python\"\n",
    "\n",
    "print(s[0])\n",
    "print(s[-1])\n",
    "print(s[4])\n",
    "print(s[3])"
   ]
  },
  {
   "cell_type": "markdown",
   "id": "410910b9-d2aa-4d39-8a2e-5e2ee2ca786a",
   "metadata": {},
   "source": [
    "# String Slicing"
   ]
  },
  {
   "cell_type": "code",
   "execution_count": 9,
   "id": "b934dd1d-0d52-47e7-ad2f-e6524229798e",
   "metadata": {},
   "outputs": [
    {
     "name": "stdout",
     "output_type": "stream",
     "text": [
      "Kris\n",
      "han K\n",
      "Kris\n",
      "ishan Kant Jha\n",
      "ahJ\n",
      "ahJ tnaK nahsirK\n"
     ]
    }
   ],
   "source": [
    "s = \"Krishan Kant Jha\"\n",
    "\n",
    "print(s[0:4])\n",
    "print(s[4:9])\n",
    "print(s[:4])\n",
    "print(s[2:])\n",
    "print(s[-1:-4:-1])\n",
    "print(s[::-1])"
   ]
  },
  {
   "cell_type": "markdown",
   "id": "f1d2070a-f288-4f18-b46e-ab057b46ef24",
   "metadata": {},
   "source": [
    "# Common String Operations"
   ]
  },
  {
   "cell_type": "code",
   "execution_count": 16,
   "id": "fe903483-8b95-44f2-bec5-67d42831af5a",
   "metadata": {},
   "outputs": [
    {
     "name": "stdout",
     "output_type": "stream",
     "text": [
      "11\n",
      "HELLO WORLD\n",
      "hello world\n",
      "Hello World\n",
      "Hello World\n",
      "Hello Python\n",
      "['Hello', 'World']\n",
      "a-b-c\n",
      "True\n",
      "True\n"
     ]
    }
   ],
   "source": [
    "s = \"Hello World\"\n",
    "\n",
    "print(len(s))          # 11\n",
    "print(s.upper())       # HELLO WORLD\n",
    "print(s.lower())       # hello world\n",
    "print(s.title())       # Hello World\n",
    "print(s.strip())       # removes spaces at start & end\n",
    "print(s.replace(\"World\", \"Python\"))  # Hello Python\n",
    "print(s.split())       # ['Hello', 'World']\n",
    "print(\"-\".join([\"a\",\"b\",\"c\"]))  # a-b-c\n",
    "print(\"World\" in s)    # True\n",
    "print(\"Python\" not in s)  # True"
   ]
  },
  {
   "cell_type": "markdown",
   "id": "0c3f06ea-3db5-4e77-86c0-ab2278d09432",
   "metadata": {},
   "source": [
    "# String Immutability"
   ]
  },
  {
   "cell_type": "code",
   "execution_count": 18,
   "id": "3e8ace3d-f136-4384-9f26-18cf58d797c6",
   "metadata": {},
   "outputs": [
    {
     "name": "stdout",
     "output_type": "stream",
     "text": [
      "Hello\n"
     ]
    }
   ],
   "source": [
    "s = \"hello\"\n",
    "# s[0] = \"H\"  # It will throw an error\n",
    "\n",
    "# Create a new string\n",
    "s = \"H\" + s[1:]\n",
    "print(s)"
   ]
  },
  {
   "cell_type": "markdown",
   "id": "1cd70b5d-525c-4c9d-9a69-797b27b5bb91",
   "metadata": {},
   "source": [
    "# Iterating over Strings"
   ]
  },
  {
   "cell_type": "code",
   "execution_count": 19,
   "id": "d65ff921-9d76-4821-9dd1-241bd4bd900f",
   "metadata": {},
   "outputs": [
    {
     "name": "stdout",
     "output_type": "stream",
     "text": [
      "K-r-i-s-h-a-n-"
     ]
    }
   ],
   "source": [
    "data = \"Krishan\"\n",
    "\n",
    "for ch in data:\n",
    "    print(ch, end = \"-\")"
   ]
  },
  {
   "cell_type": "markdown",
   "id": "bd5f34e6-e4c5-4a4b-bb81-e6c8c7a19775",
   "metadata": {},
   "source": [
    "# Built-in Functions"
   ]
  },
  {
   "cell_type": "code",
   "execution_count": 3,
   "id": "458ed28f-ad64-493c-aacc-b9c334df1b44",
   "metadata": {},
   "outputs": [
    {
     "name": "stdout",
     "output_type": "stream",
     "text": [
      "h\n",
      "y\n",
      "97\n",
      "A\n"
     ]
    }
   ],
   "source": [
    "s = \"python\"\n",
    "\n",
    "print(min(s))\n",
    "print(max(s))\n",
    "print(ord('a'))\n",
    "print(chr(65))"
   ]
  }
 ],
 "metadata": {
  "kernelspec": {
   "display_name": "Python 3 (ipykernel)",
   "language": "python",
   "name": "python3"
  },
  "language_info": {
   "codemirror_mode": {
    "name": "ipython",
    "version": 3
   },
   "file_extension": ".py",
   "mimetype": "text/x-python",
   "name": "python",
   "nbconvert_exporter": "python",
   "pygments_lexer": "ipython3",
   "version": "3.12.4"
  }
 },
 "nbformat": 4,
 "nbformat_minor": 5
}
