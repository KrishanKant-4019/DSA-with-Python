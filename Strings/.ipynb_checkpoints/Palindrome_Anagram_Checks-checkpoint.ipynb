{
 "cells": [
  {
   "cell_type": "markdown",
   "id": "9e64ec30-b10d-4ac4-bc61-ec5b6b699271",
   "metadata": {},
   "source": [
    "# Palindrome Check"
   ]
  },
  {
   "cell_type": "markdown",
   "id": "5e39c78b-fe06-4884-92fd-8e0023430682",
   "metadata": {},
   "source": [
    "#### Using Slicing"
   ]
  },
  {
   "cell_type": "code",
   "execution_count": 1,
   "id": "7d859225-a990-4b3f-97c4-55afd7b3ea42",
   "metadata": {},
   "outputs": [
    {
     "name": "stdin",
     "output_type": "stream",
     "text": [
      "Enter the string: madam\n"
     ]
    },
    {
     "name": "stdout",
     "output_type": "stream",
     "text": [
      "True\n"
     ]
    }
   ],
   "source": [
    "def is_palindrome(s):\n",
    "    return s == s[::-1]\n",
    "\n",
    "s = input(\"Enter the string:\")\n",
    "print(is_palindrome(s))"
   ]
  },
  {
   "cell_type": "markdown",
   "id": "e5d6858c-f04e-49d7-bf5a-93123db33ea0",
   "metadata": {},
   "source": [
    "#### Two Pointers"
   ]
  },
  {
   "cell_type": "code",
   "execution_count": 2,
   "id": "3f86ed42-1129-473b-bd2d-4ec1b564a380",
   "metadata": {},
   "outputs": [
    {
     "name": "stdin",
     "output_type": "stream",
     "text": [
      "Enter the string: madam\n"
     ]
    },
    {
     "name": "stdout",
     "output_type": "stream",
     "text": [
      "True\n"
     ]
    }
   ],
   "source": [
    "def is_palindrome_two_pointer(s):\n",
    "    left, right = 0, len(s) - 1\n",
    "\n",
    "    while left < right:\n",
    "        if s[left] != s[right]:\n",
    "            return False\n",
    "        left += 1\n",
    "        right -= 1\n",
    "    return True\n",
    "\n",
    "s = input(\"Enter the string:\")\n",
    "print(is_palindrome_two_pointer(s))"
   ]
  },
  {
   "cell_type": "markdown",
   "id": "2ff6eba9-a05c-4013-9055-a30bd0a41a3d",
   "metadata": {},
   "source": [
    "#### Ignore Case & Non-Alphanumeric"
   ]
  },
  {
   "cell_type": "code",
   "execution_count": 4,
   "id": "88f69e55-b254-4df3-a19b-b29566d8c7b0",
   "metadata": {},
   "outputs": [
    {
     "name": "stdin",
     "output_type": "stream",
     "text": [
      "Enter the string: madam\n"
     ]
    },
    {
     "name": "stdout",
     "output_type": "stream",
     "text": [
      "True\n"
     ]
    }
   ],
   "source": [
    "import re\n",
    "\n",
    "def clean_string(s):\n",
    "    return re.sub(r'[^a-zA-Z0-9]', '', s).lower()\n",
    "\n",
    "def is_palindrome_clean(s):\n",
    "    s = clean_string(s)\n",
    "    return s == s[::-1]\n",
    "\n",
    "s = input(\"Enter the string:\")\n",
    "print(is_palindrome_clean(s))"
   ]
  },
  {
   "cell_type": "markdown",
   "id": "cbd1b883-adcc-455d-a462-23b0605bd7d6",
   "metadata": {},
   "source": [
    "# Anagram Check"
   ]
  },
  {
   "cell_type": "markdown",
   "id": "80190c06-833a-4dad-86ce-d4af28df4e28",
   "metadata": {},
   "source": [
    "#### Sort and Compare"
   ]
  },
  {
   "cell_type": "code",
   "execution_count": 7,
   "id": "b7d9fe89-05f7-494d-bc90-7dc7cce3d387",
   "metadata": {},
   "outputs": [
    {
     "name": "stdin",
     "output_type": "stream",
     "text": [
      "Enter the 1st string: listen\n",
      "Enter the 2nd string: silent\n"
     ]
    },
    {
     "name": "stdout",
     "output_type": "stream",
     "text": [
      "True\n"
     ]
    }
   ],
   "source": [
    "def is_anagram(s1, s2):\n",
    "    return sorted(s1) == sorted(s2)\n",
    "\n",
    "s1 = input(\"Enter the 1st string:\")\n",
    "s2 = input(\"Enter the 2nd string:\")\n",
    "print(is_anagram(s1, s2))"
   ]
  },
  {
   "cell_type": "markdown",
   "id": "43d38a90-4317-4eed-9ff1-acd95d37db25",
   "metadata": {},
   "source": [
    "#### Frequency Counter"
   ]
  },
  {
   "cell_type": "code",
   "execution_count": 8,
   "id": "7651acc4-26e5-4892-9728-57a809e25edd",
   "metadata": {},
   "outputs": [
    {
     "name": "stdin",
     "output_type": "stream",
     "text": [
      "Enter the 1st string: listen\n",
      "Enter the 2nd string: silent\n"
     ]
    },
    {
     "name": "stdout",
     "output_type": "stream",
     "text": [
      "True\n"
     ]
    }
   ],
   "source": [
    "from collections import Counter\n",
    "\n",
    "def is_anagram_counter(s1, s2):\n",
    "    return Counter(s1) == Counter(s2)\n",
    "\n",
    "s1 = input(\"Enter the 1st string:\")\n",
    "s2 = input(\"Enter the 2nd string:\")\n",
    "print(is_anagram_counter(s1, s2))"
   ]
  },
  {
   "cell_type": "markdown",
   "id": "27cacdb8-9b44-4028-a03d-61b18937cc25",
   "metadata": {},
   "source": [
    "#### Manual Frequency Array (For lowercase only)"
   ]
  },
  {
   "cell_type": "code",
   "execution_count": 10,
   "id": "ec45a027-6e0e-4ad8-af9d-65439a6fc3c1",
   "metadata": {},
   "outputs": [
    {
     "name": "stdin",
     "output_type": "stream",
     "text": [
      "Enter the 1st string: listen\n",
      "Enter the 2nd string: silent\n"
     ]
    },
    {
     "name": "stdout",
     "output_type": "stream",
     "text": [
      "True\n"
     ]
    }
   ],
   "source": [
    "def is_anagram_array(s1, s2):\n",
    "    if len(s1) != len(s2):\n",
    "        return False\n",
    "    \n",
    "    freq = [0] * 26\n",
    "    for ch in s1:\n",
    "        freq[ord(ch) - ord('a')] += 1\n",
    "    for ch in s2:\n",
    "        freq[ord(ch) - ord('a')] -= 1\n",
    "    \n",
    "    return all(f == 0 for f in freq)\n",
    "\n",
    "s1 = input(\"Enter the 1st string:\")\n",
    "s2 = input(\"Enter the 2nd string:\")\n",
    "print(is_anagram_array(s1, s2))"
   ]
  }
 ],
 "metadata": {
  "kernelspec": {
   "display_name": "Python 3 (ipykernel)",
   "language": "python",
   "name": "python3"
  },
  "language_info": {
   "codemirror_mode": {
    "name": "ipython",
    "version": 3
   },
   "file_extension": ".py",
   "mimetype": "text/x-python",
   "name": "python",
   "nbconvert_exporter": "python",
   "pygments_lexer": "ipython3",
   "version": "3.12.4"
  }
 },
 "nbformat": 4,
 "nbformat_minor": 5
}
