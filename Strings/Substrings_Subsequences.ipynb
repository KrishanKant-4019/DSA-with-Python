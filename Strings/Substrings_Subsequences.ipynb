{
 "cells": [
  {
   "cell_type": "markdown",
   "id": "28d4d46e-1c78-46b4-bd11-d9e57b5fbb40",
   "metadata": {},
   "source": [
    "# Substrings"
   ]
  },
  {
   "cell_type": "markdown",
   "id": "0ae47767-5a99-4899-b6a5-c26e838a4cd9",
   "metadata": {},
   "source": [
    "#### Generate All Substrings"
   ]
  },
  {
   "cell_type": "code",
   "execution_count": 2,
   "id": "7396b174-e95c-480e-8f47-263707a72969",
   "metadata": {},
   "outputs": [
    {
     "name": "stdin",
     "output_type": "stream",
     "text": [
      "Enter the string: abc\n"
     ]
    },
    {
     "name": "stdout",
     "output_type": "stream",
     "text": [
      "Substrings: ['a', 'ab', 'abc', 'b', 'bc', 'c']\n"
     ]
    }
   ],
   "source": [
    "def all_substrings(s):\n",
    "    n = len(s)\n",
    "    result = []\n",
    "\n",
    "    for i in range(n):\n",
    "        for j in range(i+1, n+1):\n",
    "            result.append(s[i:j])\n",
    "    return result\n",
    "\n",
    "s = input(\"Enter the string:\")\n",
    "print(\"Substrings:\", all_substrings(s))"
   ]
  },
  {
   "cell_type": "markdown",
   "id": "19e3b8fa-452d-4397-aaeb-6537dfcf1227",
   "metadata": {},
   "source": [
    "#### Check if a Substring Exists"
   ]
  },
  {
   "cell_type": "code",
   "execution_count": 3,
   "id": "4b7fa968-b9e0-4a5b-ae9e-19ca49263798",
   "metadata": {},
   "outputs": [
    {
     "name": "stdout",
     "output_type": "stream",
     "text": [
      "True\n",
      "False\n"
     ]
    }
   ],
   "source": [
    "s = \"datascience\"\n",
    "print(\"data\" in s)\n",
    "print(\"maths\" in s)"
   ]
  },
  {
   "cell_type": "markdown",
   "id": "79b3e8cc-9c00-468f-96b2-7f8b9ba3a86c",
   "metadata": {},
   "source": [
    "# Subsequences"
   ]
  },
  {
   "cell_type": "markdown",
   "id": "3f75dc7b-1b80-4a3e-987e-147442701cad",
   "metadata": {},
   "source": [
    "#### Generate all subsequences"
   ]
  },
  {
   "cell_type": "code",
   "execution_count": 6,
   "id": "e9978404-6b22-4abf-942b-bbc213f83435",
   "metadata": {},
   "outputs": [
    {
     "name": "stdin",
     "output_type": "stream",
     "text": [
      "Enter the string:  abc\n"
     ]
    },
    {
     "name": "stdout",
     "output_type": "stream",
     "text": [
      "Subsequences: ['abc', 'ab', 'ac', 'a', 'bc', 'b', 'c', '']\n"
     ]
    }
   ],
   "source": [
    "def subsequences(s, index=0, path=\"\", result=None):\n",
    "    if result is None:\n",
    "        result = []\n",
    "    \n",
    "    if index == len(s):\n",
    "        result.append(path)\n",
    "        return result\n",
    "\n",
    "    subsequences(s, index+1, path + s[index], result)\n",
    "    subsequences(s, index+1, path, result)\n",
    "    \n",
    "    return result\n",
    "\n",
    "s = input(\"Enter the string: \")\n",
    "print(\"Subsequences:\", subsequences(s))"
   ]
  },
  {
   "cell_type": "markdown",
   "id": "8bd4d8af-549f-4e92-8091-75191fb2aec3",
   "metadata": {},
   "source": [
    "# Number of subsequences"
   ]
  },
  {
   "cell_type": "code",
   "execution_count": 2,
   "id": "1a0c4377-6e5a-4e87-8c5e-26797f51f1a2",
   "metadata": {},
   "outputs": [
    {
     "name": "stdout",
     "output_type": "stream",
     "text": [
      "64\n"
     ]
    }
   ],
   "source": [
    "s = \"python\"\n",
    "print(2 ** len(s))"
   ]
  }
 ],
 "metadata": {
  "kernelspec": {
   "display_name": "Python 3 (ipykernel)",
   "language": "python",
   "name": "python3"
  },
  "language_info": {
   "codemirror_mode": {
    "name": "ipython",
    "version": 3
   },
   "file_extension": ".py",
   "mimetype": "text/x-python",
   "name": "python",
   "nbconvert_exporter": "python",
   "pygments_lexer": "ipython3",
   "version": "3.12.4"
  }
 },
 "nbformat": 4,
 "nbformat_minor": 5
}
