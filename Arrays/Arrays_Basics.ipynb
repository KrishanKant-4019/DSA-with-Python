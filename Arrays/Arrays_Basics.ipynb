{
 "cells": [
  {
   "cell_type": "markdown",
   "id": "0f2c42b6-d34b-4b25-95db-df0961c3d3cb",
   "metadata": {},
   "source": [
    "# Array Representation"
   ]
  },
  {
   "cell_type": "code",
   "execution_count": 3,
   "id": "18fa5853-3a05-4f28-9ae4-077517ac495d",
   "metadata": {},
   "outputs": [
    {
     "name": "stdout",
     "output_type": "stream",
     "text": [
      "Array: [10, 20, 30, 40, 50]\n",
      "First Element: 10\n",
      "Last Element: 50\n"
     ]
    }
   ],
   "source": [
    "# Creating an array using Python's list\n",
    "arr = [10, 20, 30, 40, 50]\n",
    "print(\"Array:\", arr)\n",
    "\n",
    "# Accessing elements\n",
    "print(\"First Element:\", arr[0])\n",
    "print(\"Last Element:\", arr[-1])"
   ]
  },
  {
   "cell_type": "markdown",
   "id": "e4db93ef-830c-49d4-aae2-8e9c3726fc2c",
   "metadata": {},
   "source": [
    "# Traversal (Visiting Elements)"
   ]
  },
  {
   "cell_type": "code",
   "execution_count": 8,
   "id": "22bfd936-bafe-4238-aab1-6d3f0e453d31",
   "metadata": {},
   "outputs": [
    {
     "name": "stdout",
     "output_type": "stream",
     "text": [
      "Traversal using for loop:\n",
      "Index 0: 10\n",
      "Index 1: 20\n",
      "Index 2: 30\n",
      "Index 3: 40\n",
      "Index 4: 50\n",
      "\n",
      "Traversal using for-each loop:\n",
      "10\n",
      "20\n",
      "30\n",
      "40\n",
      "50\n"
     ]
    }
   ],
   "source": [
    "arr = [10, 20, 30, 40, 50]\n",
    "\n",
    "# Traversal using for loop\n",
    "print(\"Traversal using for loop:\")\n",
    "for i in range(len(arr)):\n",
    "    print(f\"Index {i}: {arr[i]}\")\n",
    "\n",
    "# Traversal using for-each loop\n",
    "print(\"\\nTraversal using for-each loop:\")\n",
    "for val in arr:\n",
    "    print(val)"
   ]
  },
  {
   "cell_type": "markdown",
   "id": "886e20a9-5786-44af-9915-46de93349787",
   "metadata": {},
   "source": [
    "# Insertion"
   ]
  },
  {
   "cell_type": "code",
   "execution_count": 11,
   "id": "fd1f000a-2586-4073-86a9-e6a0197451fa",
   "metadata": {},
   "outputs": [
    {
     "name": "stdout",
     "output_type": "stream",
     "text": [
      "After inserting at end: [10, 20, 30, 40, 50, 60]\n",
      "After inserting at beginning: [5, 10, 20, 30, 40, 50, 60]\n",
      "After inserting at index 3: [5, 10, 20, 25, 30, 40, 50, 60]\n"
     ]
    }
   ],
   "source": [
    "arr = [10, 20, 30, 40, 50]\n",
    "\n",
    "# Insert at end\n",
    "arr.append(60)\n",
    "print(\"After inserting at end:\", arr)\n",
    "\n",
    "# Insert at beginning\n",
    "arr.insert(0, 5)\n",
    "print(\"After inserting at beginning:\", arr)\n",
    "\n",
    "# Insert at index 3\n",
    "arr.insert(3, 25)\n",
    "print(\"After inserting at index 3:\", arr)"
   ]
  },
  {
   "cell_type": "markdown",
   "id": "0a8b5bec-eefc-470c-a9ed-2a7077da93f1",
   "metadata": {},
   "source": [
    "# Deletion"
   ]
  },
  {
   "cell_type": "code",
   "execution_count": 18,
   "id": "b000b99d-4a8c-41a8-87b8-7e55fa924d30",
   "metadata": {},
   "outputs": [
    {
     "name": "stdout",
     "output_type": "stream",
     "text": [
      "After deleting last element: [10, 20, 30, 40]\n",
      "After deleting first element: [20, 30, 40]\n",
      "After deleting at index 2: [20, 30]\n",
      "After deleting value 20: [30]\n"
     ]
    }
   ],
   "source": [
    "arr = [10, 20, 30, 40, 50]\n",
    "\n",
    "# Delete last element\n",
    "arr.pop()\n",
    "print(\"After deleting last element:\", arr)\n",
    "\n",
    "# Delete first element\n",
    "arr.pop(0)\n",
    "print(\"After deleting first element:\", arr)\n",
    "\n",
    "# Delete by index\n",
    "arr.pop(2)\n",
    "print(\"After deleting at index 2:\", arr)\n",
    "\n",
    "# Delete by value\n",
    "arr.remove(20)\n",
    "print(\"After deleting value 20:\", arr)"
   ]
  },
  {
   "cell_type": "markdown",
   "id": "ff1d0acf-7e40-4436-94d0-4e2dcf7c6dee",
   "metadata": {},
   "source": [
    "# Traversal with Deletion/Insertion Together"
   ]
  },
  {
   "cell_type": "code",
   "execution_count": 23,
   "id": "ce8670a2-9f86-48de-9ba9-6d5e41ef4799",
   "metadata": {},
   "outputs": [
    {
     "name": "stdout",
     "output_type": "stream",
     "text": [
      "After updation: [2, 4, 6, 8, 10]\n",
      "After deleting evens: [1, 3, 5]\n"
     ]
    }
   ],
   "source": [
    "arr = [1, 2, 3, 4, 5]\n",
    "\n",
    "# Double every element (updation during traversal)\n",
    "for i in range(len(arr)):\n",
    "    arr[i] = arr[i] * 2\n",
    "print(\"After updation:\", arr)\n",
    "\n",
    "# Remove all even numbers during traversal\n",
    "arr = [1, 2, 3, 4, 5, 6]\n",
    "arr = [x for x in arr if x % 2 != 0]\n",
    "print(\"After deleting evens:\", arr)"
   ]
  }
 ],
 "metadata": {
  "kernelspec": {
   "display_name": "Python 3 (ipykernel)",
   "language": "python",
   "name": "python3"
  },
  "language_info": {
   "codemirror_mode": {
    "name": "ipython",
    "version": 3
   },
   "file_extension": ".py",
   "mimetype": "text/x-python",
   "name": "python",
   "nbconvert_exporter": "python",
   "pygments_lexer": "ipython3",
   "version": "3.12.4"
  }
 },
 "nbformat": 4,
 "nbformat_minor": 5
}
