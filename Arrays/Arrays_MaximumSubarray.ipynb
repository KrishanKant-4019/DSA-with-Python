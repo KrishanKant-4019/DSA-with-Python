{
 "cells": [
  {
   "cell_type": "markdown",
   "id": "b9acd904-1144-4a9a-9ee9-07ae934cd122",
   "metadata": {},
   "source": [
    "# Maximum Subarray Sum"
   ]
  },
  {
   "cell_type": "markdown",
   "id": "587d8ba4-be24-41a5-90c0-f8eb2a3b21f1",
   "metadata": {},
   "source": [
    "#### Brute-Force Approach"
   ]
  },
  {
   "cell_type": "code",
   "execution_count": 1,
   "id": "69a185e5-c1fa-4b92-82a1-c4c48e75b3cf",
   "metadata": {},
   "outputs": [
    {
     "name": "stdin",
     "output_type": "stream",
     "text": [
      "Enter the items separated by spaces: -2 -1 1 2 4 0 -4 5 6 -2 6\n"
     ]
    },
    {
     "name": "stdout",
     "output_type": "stream",
     "text": [
      "Maximum subarray sum(Brute Force): 18\n"
     ]
    }
   ],
   "source": [
    "def max_subarray_bruteforce(arr):\n",
    "    n = len(arr)\n",
    "    max_sum = float(\"-inf\")\n",
    "\n",
    "    for i in range(n):\n",
    "        current_sum = 0\n",
    "        for j in range(i, n):\n",
    "            current_sum += arr[j]\n",
    "            max_sum = max(max_sum, current_sum)\n",
    "    return max_sum\n",
    "\n",
    "arr = list(map(int, input(\"Enter the items separated by spaces:\").split()))\n",
    "print(\"Maximum subarray sum(Brute Force):\", max_subarray_bruteforce(arr))"
   ]
  },
  {
   "cell_type": "markdown",
   "id": "e706ce39-a00a-49d0-8351-f4a87fca682d",
   "metadata": {},
   "source": [
    "#### Kadane's Algorithm"
   ]
  },
  {
   "cell_type": "code",
   "execution_count": 4,
   "id": "83586991-4a35-4329-bc70-41db665fd85d",
   "metadata": {},
   "outputs": [
    {
     "name": "stdin",
     "output_type": "stream",
     "text": [
      "Enter the items separated by spaces: -2 -1 1 2 4 0 -4 5 6 -2 6\n"
     ]
    },
    {
     "name": "stdout",
     "output_type": "stream",
     "text": [
      "Maximum subarray sum(Kadane's): 18\n"
     ]
    }
   ],
   "source": [
    "def kadane(arr):\n",
    "    max_sum = float('-inf')\n",
    "    current_sum = 0\n",
    "\n",
    "    for num in arr:\n",
    "        current_sum += num\n",
    "        if current_sum > max_sum:\n",
    "            max_sum = current_sum\n",
    "        if current_sum < 0:\n",
    "            current_sum = 0\n",
    "    return max_sum\n",
    "\n",
    "arr = list(map(int, input(\"Enter the items separated by spaces:\").split()))\n",
    "print(\"Maximum subarray sum(Kadane's):\", kadane(arr))"
   ]
  }
 ],
 "metadata": {
  "kernelspec": {
   "display_name": "Python 3 (ipykernel)",
   "language": "python",
   "name": "python3"
  },
  "language_info": {
   "codemirror_mode": {
    "name": "ipython",
    "version": 3
   },
   "file_extension": ".py",
   "mimetype": "text/x-python",
   "name": "python",
   "nbconvert_exporter": "python",
   "pygments_lexer": "ipython3",
   "version": "3.12.4"
  }
 },
 "nbformat": 4,
 "nbformat_minor": 5
}
