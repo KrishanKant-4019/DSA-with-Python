{
 "cells": [
  {
   "cell_type": "markdown",
   "id": "c4e586eb-e9d3-4d32-bf75-f7a1a9394527",
   "metadata": {},
   "source": [
    "# Reverse Array"
   ]
  },
  {
   "cell_type": "markdown",
   "id": "b2096933-039e-4038-ac16-4b569fb7d42a",
   "metadata": {},
   "source": [
    "#### Using slicing"
   ]
  },
  {
   "cell_type": "code",
   "execution_count": 30,
   "id": "a8897d3d-abaf-4250-8c79-ddff3c71e2d3",
   "metadata": {},
   "outputs": [
    {
     "name": "stdin",
     "output_type": "stream",
     "text": [
      "Enter the items separated by spaces: 1 2 3 4 5\n"
     ]
    },
    {
     "name": "stdout",
     "output_type": "stream",
     "text": [
      "Reversed Array: [5, 4, 3, 2, 1]\n"
     ]
    }
   ],
   "source": [
    "def reverse_array(arr):\n",
    "    return arr[::-1]\n",
    "\n",
    "arr = list(map(int, input(\"Enter the items separated by spaces:\").split()))\n",
    "print(\"Reversed Array:\", reverse_array(arr))"
   ]
  },
  {
   "cell_type": "markdown",
   "id": "4d512725-7b96-4a94-b081-20ec2c431854",
   "metadata": {},
   "source": [
    "#### In-place swapping (Two pointers)"
   ]
  },
  {
   "cell_type": "code",
   "execution_count": 31,
   "id": "796bbe53-4ed8-4611-8f41-e902e856a225",
   "metadata": {},
   "outputs": [
    {
     "name": "stdin",
     "output_type": "stream",
     "text": [
      "Enter the items separated by spaces: 1 2 3 4 5\n"
     ]
    },
    {
     "name": "stdout",
     "output_type": "stream",
     "text": [
      "Reversed Array: [5, 4, 3, 2, 1]\n"
     ]
    }
   ],
   "source": [
    "def reverse_array_swapping(arr):\n",
    "    left, right = 0, len(arr) - 1\n",
    "\n",
    "    while left < right:\n",
    "        arr[left], arr[right] = arr[right], arr[left]\n",
    "        left += 1\n",
    "        right -= 1\n",
    "    return arr\n",
    "\n",
    "arr = list(map(int, input(\"Enter the items separated by spaces:\").split()))\n",
    "print(\"Reversed Array:\", reverse_array_swapping(arr))"
   ]
  },
  {
   "cell_type": "markdown",
   "id": "011fdc5c-359c-4941-b865-95e3860cf403",
   "metadata": {},
   "source": [
    "#### Using Recursion"
   ]
  },
  {
   "cell_type": "code",
   "execution_count": 37,
   "id": "78c2a222-5668-4770-9138-5fcd5727c803",
   "metadata": {},
   "outputs": [
    {
     "name": "stdin",
     "output_type": "stream",
     "text": [
      "Enter the items separated by spaces: 1 2 3 4 5\n"
     ]
    },
    {
     "name": "stdout",
     "output_type": "stream",
     "text": [
      "Reversed Array: [5, 4, 3, 2, 1]\n"
     ]
    }
   ],
   "source": [
    "def reverse_array_recursion(arr, left, right):\n",
    "    if left >= right:\n",
    "        return arr\n",
    "    else:\n",
    "        arr[left], arr[right] = arr[right], arr[left]\n",
    "    return reverse_array_recursion(arr, left + 1, right - 1)\n",
    "\n",
    "arr = list(map(int, input(\"Enter the items separated by spaces:\").split()))\n",
    "print(\"Reversed Array:\", reverse_array_recursion(arr, 0, len(arr)-1))"
   ]
  },
  {
   "cell_type": "markdown",
   "id": "e898b430-13cb-476e-bbdd-5f428f94561b",
   "metadata": {},
   "source": [
    "# Rotate Array"
   ]
  },
  {
   "cell_type": "markdown",
   "id": "40983db3-6eec-42ed-958a-4682b5417dd2",
   "metadata": {},
   "source": [
    "### Using Slicing"
   ]
  },
  {
   "cell_type": "markdown",
   "id": "33f41dfc-1127-4e41-bdc3-cb3a1ac936c5",
   "metadata": {},
   "source": [
    "##### Right Rotation"
   ]
  },
  {
   "cell_type": "code",
   "execution_count": 39,
   "id": "5eff199e-f952-4f20-81a0-cab25c858258",
   "metadata": {},
   "outputs": [
    {
     "name": "stdin",
     "output_type": "stream",
     "text": [
      "Enter the items separated by spaces: 1 2 3 4 5\n",
      "Enter the value of k: 2\n"
     ]
    },
    {
     "name": "stdout",
     "output_type": "stream",
     "text": [
      "Right Rotated Array: [4, 5, 1, 2, 3]\n"
     ]
    }
   ],
   "source": [
    "def rotate_right(arr, k):\n",
    "    n = len(arr)\n",
    "    k = k % n\n",
    "    return arr[-k:] + arr[:-k]\n",
    "\n",
    "arr = list(map(int, input(\"Enter the items separated by spaces:\").split()))\n",
    "k = int(input(\"Enter the value of k:\"))\n",
    "print(\"Right Rotated Array:\", rotate_right(arr, k))"
   ]
  },
  {
   "cell_type": "markdown",
   "id": "442b26b9-233f-4b51-bd36-f4658a24d655",
   "metadata": {},
   "source": [
    "##### Left Rotation"
   ]
  },
  {
   "cell_type": "code",
   "execution_count": 41,
   "id": "fa3a4c33-d0d6-4825-8b12-0f9998189fad",
   "metadata": {},
   "outputs": [
    {
     "name": "stdin",
     "output_type": "stream",
     "text": [
      "Enter the items separated by spaces: 1 2 3 4 5\n",
      "Enter the value of k: 2\n"
     ]
    },
    {
     "name": "stdout",
     "output_type": "stream",
     "text": [
      "Right Rotated Array: [3, 4, 5, 1, 2]\n"
     ]
    }
   ],
   "source": [
    "def rotate_left(arr, k):\n",
    "    n = len(arr)\n",
    "    k = k % n\n",
    "    return arr[k:] + arr[:k]\n",
    "\n",
    "arr = list(map(int, input(\"Enter the items separated by spaces:\").split()))\n",
    "k = int(input(\"Enter the value of k:\"))\n",
    "print(\"Right Rotated Array:\", rotate_left(arr, k))"
   ]
  },
  {
   "cell_type": "markdown",
   "id": "51eef67e-ef66-41f4-a084-f4319934f9d2",
   "metadata": {},
   "source": [
    "#### In-place reversal method"
   ]
  },
  {
   "cell_type": "markdown",
   "id": "09d9b84d-19f2-413a-8ed1-ee207351e510",
   "metadata": {},
   "source": [
    "##### Right Rotation"
   ]
  },
  {
   "cell_type": "code",
   "execution_count": 2,
   "id": "4a5a7adf-bfd8-436f-9e3d-1c7c5b4fb75c",
   "metadata": {},
   "outputs": [
    {
     "name": "stdin",
     "output_type": "stream",
     "text": [
      "Enter the items separated by spaces: 1 2 3 4 5 6 7 8\n",
      "Enter the value of k: 3\n"
     ]
    },
    {
     "name": "stdout",
     "output_type": "stream",
     "text": [
      "Right Rotated Array: [6, 7, 8, 1, 2, 3, 4, 5]\n"
     ]
    }
   ],
   "source": [
    "def reverse_section(arr, left, right):\n",
    "    while left < right:\n",
    "        arr[left], arr[right] = arr[right], arr[left]\n",
    "        left += 1\n",
    "        right -= 1\n",
    "\n",
    "def rotate_inplace_right(arr, k):\n",
    "    n = len(arr)\n",
    "    k = k % n\n",
    "    reverse_section(arr, 0, n-1)\n",
    "    reverse_section(arr, 0, k-1)\n",
    "    reverse_section(arr, k, n-1)\n",
    "    return arr\n",
    "\n",
    "arr = list(map(int, input(\"Enter the items separated by spaces:\").split()))\n",
    "k = int(input(\"Enter the value of k:\"))\n",
    "print(\"Right Rotated Array:\", rotate_inplace_right(arr, k))"
   ]
  },
  {
   "cell_type": "markdown",
   "id": "f9f8a6b4-6dde-4570-9409-f0dee29d863a",
   "metadata": {},
   "source": [
    "##### Left Rotation"
   ]
  },
  {
   "cell_type": "code",
   "execution_count": 4,
   "id": "dd11a7b4-6823-48e6-ba6f-46260a300204",
   "metadata": {},
   "outputs": [
    {
     "name": "stdin",
     "output_type": "stream",
     "text": [
      "Enter the items separated by spaces: 1 2 3 4 5 6 7 8\n",
      "Enter the value of k: 3\n"
     ]
    },
    {
     "name": "stdout",
     "output_type": "stream",
     "text": [
      "Left Rotated Array: [4, 5, 6, 7, 8, 1, 2, 3]\n"
     ]
    }
   ],
   "source": [
    "def reverse_section(arr, left, right):\n",
    "    while left < right:\n",
    "        arr[left], arr[right] = arr[right], arr[left]\n",
    "        left += 1\n",
    "        right -= 1\n",
    "\n",
    "def rotate_inplace_left(arr, k):\n",
    "    n = len(arr)\n",
    "    k = k % n\n",
    "    reverse_section(arr, k, n-1)\n",
    "    reverse_section(arr, 0, k-1)\n",
    "    reverse_section(arr, 0, n-1)\n",
    "    return arr\n",
    "\n",
    "arr = list(map(int, input(\"Enter the items separated by spaces:\").split()))\n",
    "k = int(input(\"Enter the value of k:\"))\n",
    "print(\"Left Rotated Array:\", rotate_inplace_left(arr, k))"
   ]
  },
  {
   "cell_type": "markdown",
   "id": "30432d73-3acd-4614-9797-b2e32d714676",
   "metadata": {},
   "source": [
    "# Prefix Sums"
   ]
  },
  {
   "cell_type": "markdown",
   "id": "0b11769f-faa9-4557-8fe6-efac9c761f95",
   "metadata": {},
   "source": [
    "#### Build prefix array"
   ]
  },
  {
   "cell_type": "code",
   "execution_count": 1,
   "id": "0548e474-1e31-4c7b-b885-df35d576ab87",
   "metadata": {},
   "outputs": [
    {
     "name": "stdin",
     "output_type": "stream",
     "text": [
      "Enter the items separated by spaces: 2 4 6 8 10\n"
     ]
    },
    {
     "name": "stdout",
     "output_type": "stream",
     "text": [
      "Prefix Sum Array: [2, 6, 12, 20, 30]\n"
     ]
    }
   ],
   "source": [
    "def prefix(arr):\n",
    "    prefix = [0] * len(arr)\n",
    "    prefix[0] = arr[0]\n",
    "\n",
    "    for i in range(1, len(arr)):\n",
    "        prefix[i] = prefix[i - 1] + arr[i]\n",
    "    return prefix\n",
    "\n",
    "arr = list(map(int, input(\"Enter the items separated by spaces:\").split()))\n",
    "print(\"Prefix Sum Array:\", prefix(arr))"
   ]
  },
  {
   "cell_type": "markdown",
   "id": "7b7f9f6a-5948-482c-b6d1-92ba71614dd3",
   "metadata": {},
   "source": [
    "#### Range sum query using prefix sum"
   ]
  },
  {
   "cell_type": "code",
   "execution_count": 3,
   "id": "b61855a8-2766-4c02-ac12-0fa2d8e3f580",
   "metadata": {},
   "outputs": [
    {
     "name": "stdin",
     "output_type": "stream",
     "text": [
      "Enter the items separated by spaces: 2 4 6 8 10\n"
     ]
    },
    {
     "name": "stdout",
     "output_type": "stream",
     "text": [
      "Range Sum: 10\n"
     ]
    }
   ],
   "source": [
    "def range_sum(prefix, l, r):\n",
    "    if l == 0:\n",
    "        return prefix[r]\n",
    "    return prefix[r] + prefix[l - 1]\n",
    "\n",
    "arr = list(map(int, input(\"Enter the items separated by spaces:\").split()))\n",
    "print(\"Range Sum:\", range_sum(arr, 1, 3))"
   ]
  }
 ],
 "metadata": {
  "kernelspec": {
   "display_name": "ML-Kernel",
   "language": "python",
   "name": "my_ml_env"
  },
  "language_info": {
   "codemirror_mode": {
    "name": "ipython",
    "version": 3
   },
   "file_extension": ".py",
   "mimetype": "text/x-python",
   "name": "python",
   "nbconvert_exporter": "python",
   "pygments_lexer": "ipython3",
   "version": "3.12.4"
  }
 },
 "nbformat": 4,
 "nbformat_minor": 5
}
