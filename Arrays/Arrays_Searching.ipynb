{
 "cells": [
  {
   "cell_type": "markdown",
   "id": "7d6120f9-6c4e-47a5-ae17-8bef2955478f",
   "metadata": {},
   "source": [
    "# Linear Search"
   ]
  },
  {
   "cell_type": "markdown",
   "id": "d3d48f1d-0641-4786-ab6c-7e7de2cf8d05",
   "metadata": {},
   "source": [
    "#### Iterative Method"
   ]
  },
  {
   "cell_type": "code",
   "execution_count": 12,
   "id": "331406c1-39b3-425b-88e5-5e61c7ba5bfa",
   "metadata": {},
   "outputs": [
    {
     "name": "stdin",
     "output_type": "stream",
     "text": [
      "Enter the items separated by spaces:  10 20 30 40 50\n",
      "Enter the element to search:  30\n"
     ]
    },
    {
     "name": "stdout",
     "output_type": "stream",
     "text": [
      "Element found at index: 2\n"
     ]
    }
   ],
   "source": [
    "def linear_search_iterative(arr, target):\n",
    "    for i in range(len(arr)):\n",
    "        if arr[i] == target:\n",
    "            return i\n",
    "    return -1\n",
    "\n",
    "arr = list(map(int, input(\"Enter the items separated by spaces: \").split()))\n",
    "target = int(input(\"Enter the element to search: \"))\n",
    "\n",
    "result = linear_search_iterative(arr, target) \n",
    "\n",
    "if result != -1:\n",
    "    print(f\"Element found at index: {result}\")\n",
    "else:\n",
    "    print(\"Element not found in array\")"
   ]
  },
  {
   "cell_type": "markdown",
   "id": "be72dee3-0407-4b2a-a478-ea26f79e2e27",
   "metadata": {},
   "source": [
    "#### Recursive Method"
   ]
  },
  {
   "cell_type": "code",
   "execution_count": 16,
   "id": "7c4bad8c-86dc-4734-b5d5-a7714a87bb37",
   "metadata": {},
   "outputs": [
    {
     "name": "stdin",
     "output_type": "stream",
     "text": [
      "Enter the items separated by spaces:  10 20 30 40 50\n",
      "Enter the element to search:  30\n"
     ]
    },
    {
     "name": "stdout",
     "output_type": "stream",
     "text": [
      "Element found at index: 2\n"
     ]
    }
   ],
   "source": [
    "def linear_search_recursive(arr, target, index = 0):\n",
    "    if index >= len(arr):\n",
    "        return -1\n",
    "    elif arr[index] == target:\n",
    "        return index\n",
    "    return linear_search_recursive(arr, target, index + 1)\n",
    "\n",
    "arr = list(map(int, input(\"Enter the items separated by spaces: \").split()))\n",
    "target = int(input(\"Enter the element to search: \"))\n",
    "\n",
    "result = linear_search_recursive(arr, target)\n",
    "\n",
    "if result != -1:\n",
    "    print(f\"Element found at index: {result}\")\n",
    "else:\n",
    "    print(\"Element not found in array\")"
   ]
  },
  {
   "cell_type": "markdown",
   "id": "6e19323d-5c0c-4a10-b9c1-56eae13492cb",
   "metadata": {},
   "source": [
    "#### Using built-in index() method"
   ]
  },
  {
   "cell_type": "code",
   "execution_count": 17,
   "id": "98d30b39-86b0-4831-9259-3e417b170b1d",
   "metadata": {},
   "outputs": [
    {
     "name": "stdin",
     "output_type": "stream",
     "text": [
      "Enter the items separated by spaces:  10 20 30 40 50\n",
      "Enter the element to search:  30\n"
     ]
    },
    {
     "name": "stdout",
     "output_type": "stream",
     "text": [
      "Element found at index: 2\n"
     ]
    }
   ],
   "source": [
    "arr = list(map(int, input(\"Enter the items separated by spaces: \").split()))\n",
    "target = int(input(\"Enter the element to search: \"))\n",
    "\n",
    "try:\n",
    "    print(f\"Element found at index: {arr.index(target)}\")\n",
    "except ValueError:\n",
    "    print(\"Element not found in array\")"
   ]
  },
  {
   "cell_type": "markdown",
   "id": "2c25eec0-8570-4d3d-942b-6eccfe63855f",
   "metadata": {},
   "source": [
    "# Binary Search"
   ]
  },
  {
   "cell_type": "markdown",
   "id": "ecce49c8-c532-42ff-8e47-3f9c55724c65",
   "metadata": {},
   "source": [
    "#### Iterative Method"
   ]
  },
  {
   "cell_type": "code",
   "execution_count": 20,
   "id": "efd28202-5bd5-4c88-acfa-d192381f049d",
   "metadata": {},
   "outputs": [
    {
     "name": "stdin",
     "output_type": "stream",
     "text": [
      "Enter the items separated by spaces: 10 20 30 40 50\n",
      "Enter the element to search: 30\n"
     ]
    },
    {
     "name": "stdout",
     "output_type": "stream",
     "text": [
      "Element found at index: 2\n"
     ]
    }
   ],
   "source": [
    "def binary_search_iterative(arr, target):\n",
    "    low, high = 0, len(arr) - 1\n",
    "\n",
    "    while low <= high:\n",
    "        mid = (low + high) // 2\n",
    "\n",
    "        if arr[mid] == target:\n",
    "            return mid\n",
    "        elif arr[mid] < target:\n",
    "            low = mid + 1\n",
    "        else:\n",
    "            high = mid - 1\n",
    "\n",
    "    return -1\n",
    "\n",
    "arr = list(map(int, input(\"Enter the items separated by spaces:\").split()))\n",
    "target = int(input(\"Enter the element to search:\"))\n",
    "\n",
    "result = binary_search_iterative(arr, target)\n",
    "\n",
    "if result != -1:\n",
    "    print(f\"Element found at index: {result}\")\n",
    "else:\n",
    "    print(\"Element not found in array\")"
   ]
  },
  {
   "cell_type": "markdown",
   "id": "e23283df-80f7-431b-9467-c3bc2ef92dca",
   "metadata": {},
   "source": [
    "#### Recursive Method"
   ]
  },
  {
   "cell_type": "code",
   "execution_count": 4,
   "id": "2d35cd94-7186-40ae-ad28-e9d19cb432fa",
   "metadata": {},
   "outputs": [
    {
     "name": "stdin",
     "output_type": "stream",
     "text": [
      "Enter the items separated by spaces:  10 20 30 40 50\n",
      "Enter the element to search:  30\n"
     ]
    },
    {
     "name": "stdout",
     "output_type": "stream",
     "text": [
      "Element found at index: 2\n"
     ]
    }
   ],
   "source": [
    "def binary_search_recursive(arr, target, low, high):\n",
    "    if low > high:\n",
    "        return -1\n",
    "\n",
    "    mid = (low + high) // 2\n",
    "\n",
    "    if arr[mid] == target:\n",
    "        return mid\n",
    "    elif arr[mid] < target:\n",
    "        return binary_search_recursive(arr, target, mid + 1, high)\n",
    "    else:\n",
    "        return binary_search_recursive(arr, target, low, mid - 1)\n",
    "\n",
    "\n",
    "arr = list(map(int, input(\"Enter the items separated by spaces: \").split()))\n",
    "target = int(input(\"Enter the element to search: \"))\n",
    "\n",
    "result = binary_search_recursive(arr, target, 0, len(arr) - 1)\n",
    "\n",
    "if result != -1:\n",
    "    print(f\"Element found at index: {result}\")\n",
    "else:\n",
    "    print(\"Element not found in array\")"
   ]
  },
  {
   "cell_type": "markdown",
   "id": "45c5b504-c87c-4cef-b928-b1bd4a026ac9",
   "metadata": {},
   "source": [
    "# Binary Search Variants"
   ]
  },
  {
   "cell_type": "markdown",
   "id": "cfb72ae1-2fbf-45bf-9f50-ebc420e9979d",
   "metadata": {},
   "source": [
    "#### First Occurrence"
   ]
  },
  {
   "cell_type": "code",
   "execution_count": 7,
   "id": "fd00bac1-b322-4125-b633-ba1033757f72",
   "metadata": {},
   "outputs": [
    {
     "name": "stdin",
     "output_type": "stream",
     "text": [
      "Enter the items separated by spaces:  10 20 20 20 30 40 50\n",
      "Enter the element to search:  20\n"
     ]
    },
    {
     "name": "stdout",
     "output_type": "stream",
     "text": [
      "Element found at index: 1\n"
     ]
    }
   ],
   "source": [
    "def first_occurrence(arr, target):\n",
    "    low, high = 0, len(arr) - 1\n",
    "    result = -1\n",
    "\n",
    "    while low <= high:\n",
    "        mid = (low +  high) // 2\n",
    "        \n",
    "        if arr[mid] == target:\n",
    "            result = mid\n",
    "            high = mid - 1\n",
    "        elif arr[mid] < target:\n",
    "            low = mid + 1\n",
    "        else:\n",
    "            high = mid - 1\n",
    "    return result\n",
    "\n",
    "arr = list(map(int, input(\"Enter the items separated by spaces: \").split()))\n",
    "target = int(input(\"Enter the element to search: \"))\n",
    "\n",
    "result = first_occurrence(arr, target)\n",
    "\n",
    "if result != -1:\n",
    "    print(f\"Element found at index: {result}\")\n",
    "else:\n",
    "    print(\"Element not found in array\")"
   ]
  },
  {
   "cell_type": "markdown",
   "id": "78e57c01-4cb1-4bbf-b0cc-16b049df8459",
   "metadata": {},
   "source": [
    "#### Last Occurrence"
   ]
  },
  {
   "cell_type": "code",
   "execution_count": 8,
   "id": "276b44cb-5705-4323-a41e-0daeee6a05b1",
   "metadata": {},
   "outputs": [
    {
     "name": "stdin",
     "output_type": "stream",
     "text": [
      "Enter the items separated by spaces:  10 20 20 20 30 40 50\n",
      "Enter the element to search:  20\n"
     ]
    },
    {
     "name": "stdout",
     "output_type": "stream",
     "text": [
      "Element found at index: 3\n"
     ]
    }
   ],
   "source": [
    "def last_occurrence(arr, target):\n",
    "    low, high = 0, len(arr) - 1\n",
    "    result = -1\n",
    "\n",
    "    while low <= high:\n",
    "        mid = (low +  high) // 2\n",
    "        \n",
    "        if arr[mid] == target:\n",
    "            result = mid\n",
    "            low = mid + 1\n",
    "        elif arr[mid] < target:\n",
    "            low = mid + 1\n",
    "        else:\n",
    "            high = mid - 1\n",
    "    return result\n",
    "\n",
    "arr = list(map(int, input(\"Enter the items separated by spaces: \").split()))\n",
    "target = int(input(\"Enter the element to search: \"))\n",
    "\n",
    "result = last_occurrence(arr, target)\n",
    "\n",
    "if result != -1:\n",
    "    print(f\"Element found at index: {result}\")\n",
    "else:\n",
    "    print(\"Element not found in array\")"
   ]
  },
  {
   "cell_type": "markdown",
   "id": "0df5c438-1a1e-4e3c-93d3-4b827a8772d6",
   "metadata": {},
   "source": [
    "#### Insertion Point (Lower/Upper Bound)"
   ]
  },
  {
   "cell_type": "code",
   "execution_count": 12,
   "id": "1f9c7b50-4271-42cd-b193-2387707d3207",
   "metadata": {},
   "outputs": [
    {
     "name": "stdin",
     "output_type": "stream",
     "text": [
      "Enter sorted array elements (space separated):  10 20 20 20 30 40 50\n",
      "Enter the target value:  20\n"
     ]
    },
    {
     "name": "stdout",
     "output_type": "stream",
     "text": [
      "Lower bound of 20: 1\n",
      "Upper bound of 20: 4\n"
     ]
    }
   ],
   "source": [
    "import bisect\n",
    "\n",
    "arr = list(map(int, input(\"Enter sorted array elements (space separated): \").split()))\n",
    "target = int(input(\"Enter the target value: \"))\n",
    "\n",
    "# Lower and Upper bound\n",
    "lower_bound = bisect.bisect_left(arr, target)   # first index ≥ target\n",
    "upper_bound = bisect.bisect_right(arr, target)  # first index > target\n",
    "\n",
    "print(\"Lower bound of {}:\".format(target), lower_bound)\n",
    "print(\"Upper bound of {}:\".format(target), upper_bound)"
   ]
  }
 ],
 "metadata": {
  "kernelspec": {
   "display_name": "Python 3 (ipykernel)",
   "language": "python",
   "name": "python3"
  },
  "language_info": {
   "codemirror_mode": {
    "name": "ipython",
    "version": 3
   },
   "file_extension": ".py",
   "mimetype": "text/x-python",
   "name": "python",
   "nbconvert_exporter": "python",
   "pygments_lexer": "ipython3",
   "version": "3.12.4"
  }
 },
 "nbformat": 4,
 "nbformat_minor": 5
}
