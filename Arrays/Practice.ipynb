{
 "cells": [
  {
   "cell_type": "code",
   "execution_count": 2,
   "id": "c6101e39-b7f9-4e6c-b045-10a2f174e8d7",
   "metadata": {},
   "outputs": [
    {
     "name": "stdin",
     "output_type": "stream",
     "text": [
      "Enter the items separated by space:  2 7 1 8 6 3\n"
     ]
    },
    {
     "name": "stdout",
     "output_type": "stream",
     "text": [
      "Minimum: 1, Maximum: 8\n"
     ]
    }
   ],
   "source": [
    "# Problem 1: Find the Maximum and Minimum Element in Array\n",
    "def find_min_max(arr):\n",
    "    minimum = float('inf')      \n",
    "    maximum = float('-inf')     \n",
    "    \n",
    "    for num in arr:\n",
    "        if num < minimum:\n",
    "            minimum = num\n",
    "        if num > maximum:\n",
    "            maximum = num\n",
    "    return minimum, maximum\n",
    "\n",
    "arr = list(map(int, input(\"Enter the items separated by space: \").split()))\n",
    "minimum, maximum = find_min_max(arr)\n",
    "print(f\"Minimum: {minimum}, Maximum: {maximum}\")"
   ]
  },
  {
   "cell_type": "code",
   "execution_count": 7,
   "id": "2d9c6355-ca76-4e9c-af19-af1a8e719534",
   "metadata": {},
   "outputs": [
    {
     "name": "stdin",
     "output_type": "stream",
     "text": [
      "Enter the items separated by space:  10 20 30 40 50\n",
      "Enter the element to search: 30\n"
     ]
    },
    {
     "name": "stdout",
     "output_type": "stream",
     "text": [
      "Element found at index:2\n"
     ]
    }
   ],
   "source": [
    "# Problem 2: Search in Sorted Array (Binary Search)\n",
    "def binary_search(arr, target):\n",
    "    low, high = 0, len(arr) - 1\n",
    "    \n",
    "    while low <= high:\n",
    "        mid = (low + high) // 2\n",
    "\n",
    "        if arr[mid] == target:\n",
    "            return mid\n",
    "        elif arr[mid] < target:\n",
    "            low = mid + 1\n",
    "        else:\n",
    "            high = mid - 1\n",
    "    return -1\n",
    "\n",
    "arr = list(map(int, input(\"Enter the items separated by space: \").split()))\n",
    "target = int(input(\"Enter the element to search:\"))\n",
    "\n",
    "result = binary_search(arr, target)\n",
    "\n",
    "if result != -1:\n",
    "    print(f\"Element found at index:{result}\")\n",
    "else:\n",
    "    print(\"Element not found in array!\")"
   ]
  }
 ],
 "metadata": {
  "kernelspec": {
   "display_name": "Python 3 (ipykernel)",
   "language": "python",
   "name": "python3"
  },
  "language_info": {
   "codemirror_mode": {
    "name": "ipython",
    "version": 3
   },
   "file_extension": ".py",
   "mimetype": "text/x-python",
   "name": "python",
   "nbconvert_exporter": "python",
   "pygments_lexer": "ipython3",
   "version": "3.12.4"
  }
 },
 "nbformat": 4,
 "nbformat_minor": 5
}
