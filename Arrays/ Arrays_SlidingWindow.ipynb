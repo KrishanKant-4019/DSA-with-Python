{
 "cells": [
  {
   "cell_type": "markdown",
   "id": "3887c297-86eb-47e0-bebb-3d26e716ab05",
   "metadata": {},
   "source": [
    "# Maximum Sum Subarray of Size k"
   ]
  },
  {
   "cell_type": "markdown",
   "id": "f703cc4e-6474-4e1d-a719-5eb9ff9a8926",
   "metadata": {},
   "source": [
    "#### Brute Force Approach"
   ]
  },
  {
   "cell_type": "code",
   "execution_count": 9,
   "id": "536d2bdb-8641-40bd-9b00-de5cb3fb23b9",
   "metadata": {},
   "outputs": [
    {
     "name": "stdin",
     "output_type": "stream",
     "text": [
      "Enter the items separated by spaces: 2 9 31 -4 21 7\n",
      "Enter the value of k(window size): 3\n"
     ]
    },
    {
     "name": "stdout",
     "output_type": "stream",
     "text": [
      "Maximum sum of subarray: 48\n"
     ]
    }
   ],
   "source": [
    "def max_sum_subarray_bruteforce(arr, k):\n",
    "    n = len(arr)\n",
    "    max_sum = float('-inf')\n",
    "\n",
    "    for i in range(0, n - k + 1):\n",
    "        current_sum = sum(arr[i:i+k])\n",
    "        max_sum = max(current_sum, max_sum)\n",
    "    return max_sum\n",
    "\n",
    "arr = list(map(int, input(\"Enter the items separated by spaces:\").split()))\n",
    "k = int(input(\"Enter the value of k(window size):\"))\n",
    "print(\"Maximum sum of subarray:\", max_sum_subarray_bruteforce(arr, k))"
   ]
  },
  {
   "cell_type": "markdown",
   "id": "d1d259d8-bc04-4b49-9f7f-3e3d164ea664",
   "metadata": {},
   "source": [
    "#### Sliding Window Approach"
   ]
  },
  {
   "cell_type": "code",
   "execution_count": 14,
   "id": "9e4e4fd4-991f-41df-8e97-6dd721f116a3",
   "metadata": {},
   "outputs": [
    {
     "name": "stdin",
     "output_type": "stream",
     "text": [
      "Enter the items separated by spaces: 2 9 31 -4 21 7\n",
      "Enter the value of k(window size): 3\n"
     ]
    },
    {
     "name": "stdout",
     "output_type": "stream",
     "text": [
      "Maximum sum of subarray: 48\n"
     ]
    }
   ],
   "source": [
    "def max_sum_subarray_sliding(arr, k):\n",
    "    n = len(arr)\n",
    "    max_sum = float('-inf')\n",
    "    window_sum = 0\n",
    "\n",
    "    for i in range(k):\n",
    "        window_sum += arr[i]\n",
    "        max_sum = window_sum\n",
    "        \n",
    "    for i in range(k, n):\n",
    "        window_sum = window_sum - arr[i-k] + arr[i]\n",
    "        max_sum = max(window_sum, max_sum)\n",
    "    return max_sum\n",
    "\n",
    "arr = list(map(int, input(\"Enter the items separated by spaces:\").split()))\n",
    "k = int(input(\"Enter the value of k(window size):\"))\n",
    "print(\"Maximum sum of subarray:\", max_sum_subarray_sliding(arr, k))"
   ]
  }
 ],
 "metadata": {
  "kernelspec": {
   "display_name": "Python 3 (ipykernel)",
   "language": "python",
   "name": "python3"
  },
  "language_info": {
   "codemirror_mode": {
    "name": "ipython",
    "version": 3
   },
   "file_extension": ".py",
   "mimetype": "text/x-python",
   "name": "python",
   "nbconvert_exporter": "python",
   "pygments_lexer": "ipython3",
   "version": "3.12.4"
  }
 },
 "nbformat": 4,
 "nbformat_minor": 5
}
