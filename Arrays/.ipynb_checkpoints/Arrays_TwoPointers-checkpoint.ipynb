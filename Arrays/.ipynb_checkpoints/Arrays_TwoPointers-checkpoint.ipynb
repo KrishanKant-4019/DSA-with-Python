{
 "cells": [
  {
   "cell_type": "markdown",
   "id": "3d542f82-d92b-400f-a141-840c28028666",
   "metadata": {},
   "source": [
    "# Pair Sum in Sorted Array"
   ]
  },
  {
   "cell_type": "markdown",
   "id": "9dac1de9-313b-4f41-9ed7-4c73c8f5ef27",
   "metadata": {},
   "source": [
    "#### Brute Force Approach"
   ]
  },
  {
   "cell_type": "code",
   "execution_count": 1,
   "id": "7c80e7a3-5981-42d5-8a79-dab4180bda7f",
   "metadata": {},
   "outputs": [
    {
     "name": "stdin",
     "output_type": "stream",
     "text": [
      "Enter the items separated by spaces: 1 2 3 4 5 \n",
      "Enter the target: 6\n"
     ]
    },
    {
     "name": "stdout",
     "output_type": "stream",
     "text": [
      "Brute Force Pair Sum: (1, 5)\n"
     ]
    }
   ],
   "source": [
    "def pair_sum_bruteforce(arr, target):\n",
    "    n = len(arr)\n",
    "\n",
    "    for i in range(n):\n",
    "        for j in range(i+1, n):\n",
    "            if arr[i] + arr[j] == target:\n",
    "                return (arr[i], arr[j])\n",
    "    return None\n",
    "\n",
    "arr = list(map(int, input(\"Enter the items separated by spaces:\").split()))\n",
    "target = int(input(\"Enter the target:\"))\n",
    "print(\"Brute Force Pair Sum:\", pair_sum_bruteforce(arr, target))"
   ]
  },
  {
   "cell_type": "markdown",
   "id": "3c98d407-c030-46d5-b4c8-5f426a511da1",
   "metadata": {},
   "source": [
    "#### Two Pointers Approach"
   ]
  },
  {
   "cell_type": "code",
   "execution_count": 3,
   "id": "a7d27771-7216-4ae1-ba91-da1006ea9a39",
   "metadata": {},
   "outputs": [
    {
     "name": "stdin",
     "output_type": "stream",
     "text": [
      "Enter the items separated by spaces: 1 2 3 4 5 \n",
      "Enter the target: 6\n"
     ]
    },
    {
     "name": "stdout",
     "output_type": "stream",
     "text": [
      "Two Pointers Pair Sum: (1, 5)\n"
     ]
    }
   ],
   "source": [
    "def pair_sum_twopointer(arr, target):\n",
    "    left, right = 0, len(arr) - 1\n",
    "\n",
    "    while left < right:\n",
    "        current_sum = arr[left] + arr[right]\n",
    "        if current_sum == target:\n",
    "            return (arr[left], arr[right])\n",
    "        elif current_sum < target:\n",
    "            left += 1\n",
    "        else:\n",
    "            right -= 1\n",
    "    return None\n",
    "\n",
    "arr = list(map(int, input(\"Enter the items separated by spaces:\").split()))\n",
    "target = int(input(\"Enter the target:\"))\n",
    "print(\"Two Pointers Pair Sum:\", pair_sum_twopointer(arr, target))"
   ]
  },
  {
   "cell_type": "markdown",
   "id": "d4103a6d-5cc8-4369-b3b9-c463e23bb20e",
   "metadata": {},
   "source": [
    "# Move All Zeros to End"
   ]
  },
  {
   "cell_type": "markdown",
   "id": "101a7e8d-3291-413a-9173-bf4f4c4adb5e",
   "metadata": {},
   "source": [
    "#### Brute Force Approach"
   ]
  },
  {
   "cell_type": "code",
   "execution_count": 6,
   "id": "46c653a7-6661-4c47-8ad5-db1e04c24eee",
   "metadata": {},
   "outputs": [
    {
     "name": "stdin",
     "output_type": "stream",
     "text": [
      "Enter the items separated by spaces: 0 1 0 3 12\n"
     ]
    },
    {
     "name": "stdout",
     "output_type": "stream",
     "text": [
      "Brute Force Move Zeros: [1, 3, 12, 0, 0]\n"
     ]
    }
   ],
   "source": [
    "def move_zeros_brute_force(arr):\n",
    "    nonzeros = [x for x in arr if x != 0]\n",
    "    zeros = [0] * (len(arr) - len(nonzeros))\n",
    "    return nonzeros + zeros\n",
    "\n",
    "arr = list(map(int, input(\"Enter the items separated by spaces:\").split()))\n",
    "print(\"Brute Force Move Zeros:\", move_zeros_brute_force(arr))"
   ]
  },
  {
   "cell_type": "markdown",
   "id": "fc95c7eb-9aca-4cab-b2c2-50247f2f98ae",
   "metadata": {},
   "source": [
    "#### Two Pointers Appproach "
   ]
  },
  {
   "cell_type": "code",
   "execution_count": 7,
   "id": "b42d82d1-103e-4316-a7f1-bdc91f3f9d49",
   "metadata": {},
   "outputs": [
    {
     "name": "stdin",
     "output_type": "stream",
     "text": [
      "Enter the items separated by spaces: 0 1 0 3 12\n"
     ]
    },
    {
     "name": "stdout",
     "output_type": "stream",
     "text": [
      "Brute Force Move Zeros: [1, 3, 12, 0, 0]\n"
     ]
    }
   ],
   "source": [
    "def move_zeros_twopointer(arr):\n",
    "    left = 0\n",
    "    for right in range(len(arr)):\n",
    "        if arr[right] != 0:\n",
    "            arr[left], arr[right] = arr[right], arr[left]\n",
    "            left += 1\n",
    "    return arr\n",
    "\n",
    "arr = list(map(int, input(\"Enter the items separated by spaces:\").split()))\n",
    "print(\"Brute Force Move Zeros:\", move_zeros_twopointer(arr))"
   ]
  }
 ],
 "metadata": {
  "kernelspec": {
   "display_name": "ML-Kernel",
   "language": "python",
   "name": "my_ml_env"
  },
  "language_info": {
   "codemirror_mode": {
    "name": "ipython",
    "version": 3
   },
   "file_extension": ".py",
   "mimetype": "text/x-python",
   "name": "python",
   "nbconvert_exporter": "python",
   "pygments_lexer": "ipython3",
   "version": "3.12.4"
  }
 },
 "nbformat": 4,
 "nbformat_minor": 5
}
