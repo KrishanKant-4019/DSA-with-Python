{
 "cells": [
  {
   "cell_type": "code",
   "execution_count": 3,
   "id": "bce5593a-18fb-473b-a58a-444dbde56690",
   "metadata": {},
   "outputs": [
    {
     "name": "stdin",
     "output_type": "stream",
     "text": [
      "Enter the items separated by spaces:  50 40 20 10 30\n"
     ]
    },
    {
     "name": "stdout",
     "output_type": "stream",
     "text": [
      "Sorted Array (in ascending order): [10, 20, 30, 40, 50]\n"
     ]
    }
   ],
   "source": [
    "def merge_sort(arr):\n",
    "    if len(arr) > 1:\n",
    "        mid = len(arr) // 2   \n",
    "        lb = arr[:mid]      \n",
    "        ub = arr[mid:]    \n",
    "\n",
    "        merge_sort(lb)\n",
    "        merge_sort(ub)\n",
    "\n",
    "        i = j = k = 0\n",
    "        while i < len(lb) and j < len(ub):\n",
    "            if lb[i] < ub[j]:\n",
    "                arr[k] = lb[i]\n",
    "                i += 1\n",
    "            else:\n",
    "                arr[k] = ub[j]\n",
    "                j += 1\n",
    "            k += 1\n",
    "\n",
    "        while i < len(lb):\n",
    "            arr[k] = lb[i]\n",
    "            i += 1\n",
    "            k += 1\n",
    "\n",
    "        while j < len(ub):\n",
    "            arr[k] = ub[j]\n",
    "            j += 1\n",
    "            k += 1\n",
    "    \n",
    "    return arr\n",
    "\n",
    "\n",
    "arr = list(map(int, input(\"Enter the items separated by spaces: \").split()))\n",
    "print(\"Sorted Array (in ascending order):\", merge_sort(arr))"
   ]
  }
 ],
 "metadata": {
  "kernelspec": {
   "display_name": "ML-Kernel",
   "language": "python",
   "name": "my_ml_env"
  },
  "language_info": {
   "codemirror_mode": {
    "name": "ipython",
    "version": 3
   },
   "file_extension": ".py",
   "mimetype": "text/x-python",
   "name": "python",
   "nbconvert_exporter": "python",
   "pygments_lexer": "ipython3",
   "version": "3.12.4"
  }
 },
 "nbformat": 4,
 "nbformat_minor": 5
}
