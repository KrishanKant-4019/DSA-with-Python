{
 "cells": [
  {
   "cell_type": "code",
   "execution_count": 1,
   "id": "b5c50a07-a29f-4d30-8e26-95e20c74573d",
   "metadata": {},
   "outputs": [
    {
     "name": "stdin",
     "output_type": "stream",
     "text": [
      "Enter the items separated by spaces:  50 10 40 30 20\n"
     ]
    },
    {
     "name": "stdout",
     "output_type": "stream",
     "text": [
      "Sorted Array (in Ascending Order): [10, 20, 30, 40, 50]\n"
     ]
    }
   ],
   "source": [
    "def hoare_partition(arr, lb, ub):\n",
    "    pivot = arr[lb]          # Choose first element as pivot\n",
    "    start = lb - 1           # Pointer moving from left\n",
    "    end = ub + 1             # Pointer moving from right\n",
    "\n",
    "    while True:\n",
    "        start += 1\n",
    "        while arr[start] < pivot:  # Find element greater than pivot\n",
    "            start += 1\n",
    "        end -= 1\n",
    "        while arr[end] > pivot:    # Find element less than pivot\n",
    "            end -= 1\n",
    "        if start >= end:           # Pointers crossed -> partition done\n",
    "            return end\n",
    "        arr[start], arr[end] = arr[end], arr[start]  # Swap elements on wrong side\n",
    "\n",
    "\n",
    "def quick_sort_hoare(arr, lb, ub):\n",
    "    if lb < ub:                     # If subarray has 2+ elements\n",
    "        p = hoare_partition(arr, lb, ub)   # Partition and get split index\n",
    "        quick_sort_hoare(arr, lb, p)       # Recursively sort left side\n",
    "        quick_sort_hoare(arr, p + 1, ub)  # Recursively sort right side\n",
    "\n",
    "arr = list(map(int, input(\"Enter the items separated by spaces: \").split()))\n",
    "quick_sort_hoare(arr, 0, len(arr) - 1)\n",
    "print(\"Sorted Array (in Ascending Order):\", arr)"
   ]
  }
 ],
 "metadata": {
  "kernelspec": {
   "display_name": "ML-Kernel",
   "language": "python",
   "name": "my_ml_env"
  },
  "language_info": {
   "codemirror_mode": {
    "name": "ipython",
    "version": 3
   },
   "file_extension": ".py",
   "mimetype": "text/x-python",
   "name": "python",
   "nbconvert_exporter": "python",
   "pygments_lexer": "ipython3",
   "version": "3.12.4"
  }
 },
 "nbformat": 4,
 "nbformat_minor": 5
}
