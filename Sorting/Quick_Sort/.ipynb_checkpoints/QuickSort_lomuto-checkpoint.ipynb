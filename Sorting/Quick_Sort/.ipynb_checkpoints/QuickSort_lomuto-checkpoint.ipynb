{
 "cells": [
  {
   "cell_type": "code",
   "execution_count": 1,
   "id": "547671cf-6cb4-4128-8da1-f82a32dfc6ef",
   "metadata": {},
   "outputs": [
    {
     "name": "stdin",
     "output_type": "stream",
     "text": [
      "Enter the items separated by spaces:  50 40 30 20 10\n"
     ]
    },
    {
     "name": "stdout",
     "output_type": "stream",
     "text": [
      "Sorted Array (in Ascending Order): [10, 20, 30, 40, 50]\n"
     ]
    }
   ],
   "source": [
    "def lomuto_partition(arr, lb, ub):\n",
    "    pivot = arr[ub]          # Choose last element as pivot\n",
    "    i = lb - 1               # Index of smaller element boundary\n",
    "\n",
    "    for j in range(lb, ub):  # Traverse the subarray\n",
    "        if arr[j] <= pivot:  # If current element <= pivot\n",
    "            i += 1\n",
    "            arr[i], arr[j] = arr[j], arr[i]  # Swap into the smaller section\n",
    "    arr[i + 1], arr[ub] = arr[ub], arr[i + 1]  # Place pivot in correct position\n",
    "    return i + 1             # Return pivot index\n",
    "\n",
    "def quick_sort_lomuto(arr, lb, ub):\n",
    "    if lb < ub:                       # If subarray has 2+ elements\n",
    "        p = lomuto_partition(arr, lb, ub)  # Partition and get pivot index\n",
    "        quick_sort_lomuto(arr, lb, p - 1)  # Recursively sort left side\n",
    "        quick_sort_lomuto(arr, p + 1, ub)  # Recursively sort right side\n",
    "    return arr\n",
    "\n",
    "arr = list(map(int, input(\"Enter the items separated by spaces: \").split()))\n",
    "quick_sort_lomuto(arr, 0, len(arr) - 1)\n",
    "print(\"Sorted Array (in Ascending Order):\", arr)"
   ]
  }
 ],
 "metadata": {
  "kernelspec": {
   "display_name": "ML-Kernel",
   "language": "python",
   "name": "my_ml_env"
  },
  "language_info": {
   "codemirror_mode": {
    "name": "ipython",
    "version": 3
   },
   "file_extension": ".py",
   "mimetype": "text/x-python",
   "name": "python",
   "nbconvert_exporter": "python",
   "pygments_lexer": "ipython3",
   "version": "3.12.4"
  }
 },
 "nbformat": 4,
 "nbformat_minor": 5
}
