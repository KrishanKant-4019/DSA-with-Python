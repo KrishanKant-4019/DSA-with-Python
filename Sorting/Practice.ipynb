{
 "cells": [
  {
   "cell_type": "code",
   "execution_count": 9,
   "id": "243206e0-d59a-4a60-b142-6299d18063de",
   "metadata": {},
   "outputs": [
    {
     "name": "stdin",
     "output_type": "stream",
     "text": [
      "Enter the items separated by spaces:  50 40 10 30 20\n"
     ]
    },
    {
     "name": "stdout",
     "output_type": "stream",
     "text": [
      "Sorted Array(in Ascending Order):  [10, 20, 30, 40, 50]\n"
     ]
    }
   ],
   "source": [
    "# Implement Bubble Sort - Sort an array of integers using bubble sort. Optimize with early\n",
    "# stopping when no swaps occur.\n",
    "\n",
    "def bubble_sort(arr):\n",
    "    n = len(arr)\n",
    "\n",
    "    for i in range(n):\n",
    "        swapped = False\n",
    "        for j in range(0, n-i-1):\n",
    "            if arr[j] > arr[j + 1]:\n",
    "                arr[j], arr[j + 1] = arr[j + 1], arr[j]\n",
    "                swapped = True      \n",
    "        if not swapped:\n",
    "            break\n",
    "    return arr\n",
    "\n",
    "arr = list(map(int, input(\"Enter the items separated by spaces: \").split()))\n",
    "print(\"Sorted Array(in Ascending Order): \", bubble_sort(arr))"
   ]
  },
  {
   "cell_type": "code",
   "execution_count": 2,
   "id": "d89582d4-a594-4b18-a527-ceb7807a185b",
   "metadata": {},
   "outputs": [
    {
     "name": "stdin",
     "output_type": "stream",
     "text": [
      "Enter the items separated by spaces:  50 20 40 10 30\n"
     ]
    },
    {
     "name": "stdout",
     "output_type": "stream",
     "text": [
      "Sorted Array (Ascending Order): [10, 20, 30, 40, 50]\n",
      "Total Swaps: 3\n"
     ]
    }
   ],
   "source": [
    "# Implement Selection Sort - Sort an array using selection sort. Track the number of swaps\n",
    "# made.\n",
    "\n",
    "def selection_sort(arr):\n",
    "    n = len(arr)\n",
    "\n",
    "    swap = 0\n",
    "    for i in range(n):\n",
    "        min_index = i\n",
    "        for j in range(i + 1, n):\n",
    "            if arr[j] < arr[min_index]:\n",
    "                min_index = j\n",
    "        if min_index != i:\n",
    "            arr[i], arr[min_index] = arr[min_index], arr[i]\n",
    "            swap += 1\n",
    "    return arr, swap\n",
    "\n",
    "arr = list(map(int, input(\"Enter the items separated by spaces: \").split()))\n",
    "sorted_arr, total_swaps = selection_sort(arr)\n",
    "print(\"Sorted Array (Ascending Order):\", sorted_arr)\n",
    "print(\"Total Swaps:\", total_swaps)"
   ]
  },
  {
   "cell_type": "code",
   "execution_count": 6,
   "id": "ff57ec17-6d1c-48a8-b746-dc5e02d57d68",
   "metadata": {},
   "outputs": [
    {
     "name": "stdin",
     "output_type": "stream",
     "text": [
      "Enter the items separated by spaces:  50 20 40 10 30\n"
     ]
    },
    {
     "name": "stdout",
     "output_type": "stream",
     "text": [
      "Sorted Array(in Ascending Order):  [10, 20, 30, 40, 50]\n"
     ]
    }
   ],
   "source": [
    "# Implement Insertion Sort - Implement insertion sort.\n",
    "def insertion_sort(arr):\n",
    "    n = len(arr)\n",
    "\n",
    "    for i in range(1, n):\n",
    "        temp = arr[i]\n",
    "        j = i - 1\n",
    "        while j >= 0 and arr[j] > temp:\n",
    "            arr[j + 1] = arr[j]\n",
    "            j -= 1\n",
    "        arr[j + 1] = temp\n",
    "    return arr\n",
    "\n",
    "arr = list(map(int, input(\"Enter the items separated by spaces: \").split()))\n",
    "print(\"Sorted Array(in Ascending Order): \", insertion_sort(arr))"
   ]
  },
  {
   "cell_type": "code",
   "execution_count": 8,
   "id": "257f8953-91ca-4e35-a559-e77cc419da69",
   "metadata": {},
   "outputs": [
    {
     "name": "stdin",
     "output_type": "stream",
     "text": [
      "Enter the items separated by spaces:  50 40 10 30 20\n"
     ]
    },
    {
     "name": "stdout",
     "output_type": "stream",
     "text": [
      "Sorted Array(in Ascending Order):  [10, 20, 30, 40, 50]\n"
     ]
    }
   ],
   "source": [
    "# Implement Merge Sort - Write recursive merge sort.\n",
    "def merge_sort(arr):\n",
    "    if len(arr) > 1:\n",
    "        mid = len(arr) // 2\n",
    "        lb = arr[:mid]\n",
    "        ub = arr[mid:]\n",
    "\n",
    "        merge_sort(lb)\n",
    "        merge_sort(ub)\n",
    "\n",
    "        i = j = k = 0\n",
    "        while i < len(lb) and j < len(ub):\n",
    "            if lb[i] < ub[j]:\n",
    "                arr[k] = lb[i]\n",
    "                i += 1\n",
    "            else:\n",
    "                arr[k] = ub[j]\n",
    "                j += 1\n",
    "            k += 1\n",
    "        \n",
    "        while i < len(lb):\n",
    "            arr[k] = lb[i]\n",
    "            i += 1\n",
    "            k += 1\n",
    "        while j < len(ub):\n",
    "            arr[k] = ub[j]\n",
    "            j += 1\n",
    "            k += 1\n",
    "    return arr\n",
    "\n",
    "arr = list(map(int, input(\"Enter the items separated by spaces: \").split()))\n",
    "print(\"Sorted Array(in Ascending Order): \", merge_sort(arr))"
   ]
  },
  {
   "cell_type": "code",
   "execution_count": 3,
   "id": "327f1bfb-4ff8-4899-8eea-b6d611a444f5",
   "metadata": {},
   "outputs": [
    {
     "name": "stdin",
     "output_type": "stream",
     "text": [
      "Enter the items separated by spaces: 50 40 10 30 20\n"
     ]
    },
    {
     "name": "stdout",
     "output_type": "stream",
     "text": [
      "Sorted Array (in Ascending Order): [10, 20, 30, 40, 50]\n"
     ]
    }
   ],
   "source": [
    "def lomuto_partition(arr, lb, ub):\n",
    "    pivot = arr[ub]\n",
    "    i = lb - 1\n",
    "\n",
    "    for j in range(lb, ub):\n",
    "        if arr[j] <= pivot:\n",
    "            i += 1\n",
    "            arr[i], arr[j] = arr[j], arr[i]\n",
    "    arr[i + 1], arr[ub] = arr[ub], arr[i + 1]\n",
    "    return i + 1\n",
    "\n",
    "def quick_sort_lomuto(arr, lb, ub):\n",
    "    if lb < ub:\n",
    "        p = lomuto_partition(arr, lb, ub)\n",
    "        quick_sort_lomuto(arr, lb, p - 1)\n",
    "        quick_sort_lomuto(arr, p + 1, ub)\n",
    "    return arr\n",
    "\n",
    "arr = list(map(int, input(\"Enter the items separated by spaces:\").split()))\n",
    "quick_sort_lomuto(arr, 0, len(arr) - 1)\n",
    "print(\"Sorted Array (in Ascending Order):\", arr)"
   ]
  }
 ],
 "metadata": {
  "kernelspec": {
   "display_name": "ML-Kernel",
   "language": "python",
   "name": "my_ml_env"
  },
  "language_info": {
   "codemirror_mode": {
    "name": "ipython",
    "version": 3
   },
   "file_extension": ".py",
   "mimetype": "text/x-python",
   "name": "python",
   "nbconvert_exporter": "python",
   "pygments_lexer": "ipython3",
   "version": "3.12.4"
  }
 },
 "nbformat": 4,
 "nbformat_minor": 5
}
