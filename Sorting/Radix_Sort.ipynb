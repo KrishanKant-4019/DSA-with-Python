{
 "cells": [
  {
   "cell_type": "code",
   "execution_count": 2,
   "id": "a36438dc-03f6-45b2-98cf-697d8e36ea06",
   "metadata": {},
   "outputs": [
    {
     "name": "stdin",
     "output_type": "stream",
     "text": [
      "Enter the items separated by spaces: 170 45 75 90 802 24 2 66\n"
     ]
    },
    {
     "name": "stdout",
     "output_type": "stream",
     "text": [
      "Sorted Array(in Ascending Order):  [2, 24, 45, 66, 75, 90, 170, 802]\n"
     ]
    }
   ],
   "source": [
    "def counting_sort(arr, exp):\n",
    "    n = len(arr)\n",
    "    output = [0] * n\n",
    "    count = [0] * 10\n",
    "\n",
    "    # Count the occurrences of each digit\n",
    "    for num in arr:\n",
    "        index = (num // exp) % 10\n",
    "        count[index] += 1\n",
    "\n",
    "    # Update the array\n",
    "    for i in range(1, 10):\n",
    "        count[i] += count[i-1]\n",
    "\n",
    "    # Build the output array\n",
    "    for num in reversed(arr):\n",
    "        index = (num // exp) % 10\n",
    "        output[count[index] - 1] = num\n",
    "        count[index] -= 1\n",
    "\n",
    "    # Copy back to arr\n",
    "    for i in range(n):\n",
    "        arr[i] = output[i]\n",
    "\n",
    "def radix_sort(arr):\n",
    "    max_val = max(arr)\n",
    "    exp = 1\n",
    "    while max_val // exp > 0:\n",
    "        counting_sort(arr, exp)\n",
    "        exp *= 10\n",
    "    return arr\n",
    "\n",
    "arr = list(map(int, input(\"Enter the items separated by spaces:\" ).split()))\n",
    "print(\"Sorted Array(in Ascending Order): \", radix_sort(arr))"
   ]
  }
 ],
 "metadata": {
  "kernelspec": {
   "display_name": "ML-Kernel",
   "language": "python",
   "name": "my_ml_env"
  },
  "language_info": {
   "codemirror_mode": {
    "name": "ipython",
    "version": 3
   },
   "file_extension": ".py",
   "mimetype": "text/x-python",
   "name": "python",
   "nbconvert_exporter": "python",
   "pygments_lexer": "ipython3",
   "version": "3.12.4"
  }
 },
 "nbformat": 4,
 "nbformat_minor": 5
}
