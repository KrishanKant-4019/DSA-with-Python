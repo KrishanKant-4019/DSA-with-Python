{
 "cells": [
  {
   "cell_type": "code",
   "execution_count": 1,
   "id": "0b1fa58a-562b-4736-9e03-a247b7529fba",
   "metadata": {},
   "outputs": [
    {
     "name": "stdin",
     "output_type": "stream",
     "text": [
      "Enter the items separated by spaces:  50 40 10 30 20\n"
     ]
    },
    {
     "name": "stdout",
     "output_type": "stream",
     "text": [
      "Sorted Array(in Ascending Order): [10, 20, 30, 40, 50]\n"
     ]
    }
   ],
   "source": [
    "def partition(arr, lb, ub):\n",
    "    pivot = arr[lb]\n",
    "    start = lb\n",
    "    end = ub\n",
    "\n",
    "    while start < end:\n",
    "        while start <= ub and arr[start] <= pivot:\n",
    "            start += 1\n",
    "        while end >= lb and arr[end] > pivot:\n",
    "            end -= 1\n",
    "\n",
    "        if start < end:\n",
    "            arr[start], arr[end] = arr[end], arr[start]\n",
    "\n",
    "    arr[lb], arr[end] = arr[end], arr[lb]\n",
    "    return end\n",
    "\n",
    "def quick_sort(arr, lb, ub):\n",
    "    if lb < ub:\n",
    "        loc = partition(arr, lb, ub)\n",
    "        quick_sort(arr, lb, loc - 1)\n",
    "        quick_sort(arr, loc + 1, ub)\n",
    "\n",
    "arr = list(map(int, input(\"Enter the items separated by spaces: \").split()))\n",
    "quick_sort(arr, 0, len(arr) - 1)\n",
    "print(\"Sorted Array(in Ascending Order):\", arr)"
   ]
  }
 ],
 "metadata": {
  "kernelspec": {
   "display_name": "ML-Kernel",
   "language": "python",
   "name": "my_ml_env"
  },
  "language_info": {
   "codemirror_mode": {
    "name": "ipython",
    "version": 3
   },
   "file_extension": ".py",
   "mimetype": "text/x-python",
   "name": "python",
   "nbconvert_exporter": "python",
   "pygments_lexer": "ipython3",
   "version": "3.12.4"
  }
 },
 "nbformat": 4,
 "nbformat_minor": 5
}
