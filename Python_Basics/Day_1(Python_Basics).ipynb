{
 "cells": [
  {
   "cell_type": "code",
   "execution_count": 2,
   "id": "47655b84-ff6c-419e-bcdc-cc4c759cd8ba",
   "metadata": {},
   "outputs": [
    {
     "name": "stdin",
     "output_type": "stream",
     "text": [
      "Enter the number: 5\n"
     ]
    },
    {
     "name": "stdout",
     "output_type": "stream",
     "text": [
      "1\n",
      "2\n",
      "3\n",
      "4\n",
      "5\n"
     ]
    }
   ],
   "source": [
    "# Print the first n natural numbers.\n",
    "n = int(input(\"Enter the number:\"))\n",
    "\n",
    "for i in range(1, n+1):\n",
    "    print(i)"
   ]
  },
  {
   "cell_type": "code",
   "execution_count": 3,
   "id": "9ad0ca9a-1e2b-4dbb-a0af-389a9d664065",
   "metadata": {},
   "outputs": [
    {
     "name": "stdin",
     "output_type": "stream",
     "text": [
      "Enter the number: 5\n"
     ]
    },
    {
     "name": "stdout",
     "output_type": "stream",
     "text": [
      "5 * 1 = 5\n",
      "5 * 2 = 10\n",
      "5 * 3 = 15\n",
      "5 * 4 = 20\n",
      "5 * 5 = 25\n",
      "5 * 6 = 30\n",
      "5 * 7 = 35\n",
      "5 * 8 = 40\n",
      "5 * 9 = 45\n",
      "5 * 10 = 50\n"
     ]
    }
   ],
   "source": [
    "# Print the multiplication table of a given number n.\n",
    "n = int(input(\"Enter the number:\"))\n",
    "\n",
    "for i in range(1, 11):\n",
    "    print(f\"{n} * {i} = {n * i}\")"
   ]
  },
  {
   "cell_type": "code",
   "execution_count": 12,
   "id": "94bf9621-482f-4406-bc22-6e7f080399c0",
   "metadata": {},
   "outputs": [
    {
     "name": "stdin",
     "output_type": "stream",
     "text": [
      "Enter the number: 123\n"
     ]
    },
    {
     "name": "stdout",
     "output_type": "stream",
     "text": [
      "Sum of 123 is : 6\n"
     ]
    }
   ],
   "source": [
    "# Print the sum of digits of a number.\n",
    "n = int(input(\"Enter the number:\"))\n",
    "\n",
    "num = abs(n)\n",
    "digit_sum = 0\n",
    "\n",
    "while num > 0:\n",
    "    digit = num % 10\n",
    "    digit_sum += digit\n",
    "    num //= 10\n",
    "print(f\"Sum of {n} is : {sum}\")"
   ]
  },
  {
   "cell_type": "code",
   "execution_count": 14,
   "id": "676f2382-25d0-4969-aef2-404924468986",
   "metadata": {},
   "outputs": [
    {
     "name": "stdin",
     "output_type": "stream",
     "text": [
      "Enter the number: 12345\n"
     ]
    },
    {
     "name": "stdout",
     "output_type": "stream",
     "text": [
      "Reversed number is: 54321\n"
     ]
    }
   ],
   "source": [
    "# Reverse a number without converting it to string.\n",
    "n = int(input(\"Enter the number:\"))\n",
    "\n",
    "num = abs(n)\n",
    "rev = 0\n",
    "\n",
    "while num > 0:\n",
    "    digit = num % 10\n",
    "    rev = rev * 10 + digit\n",
    "    num //= 10\n",
    "\n",
    "if n < 0:\n",
    "    rev = -rev\n",
    "    \n",
    "print(\"Reversed number is:\", rev)"
   ]
  },
  {
   "cell_type": "code",
   "execution_count": 18,
   "id": "3a984fd0-399d-4573-a86c-0638be79b061",
   "metadata": {},
   "outputs": [
    {
     "name": "stdin",
     "output_type": "stream",
     "text": [
      "Enter the number: 2\n"
     ]
    },
    {
     "name": "stdout",
     "output_type": "stream",
     "text": [
      "True\n"
     ]
    }
   ],
   "source": [
    "# Check if a number is prime.\n",
    "def is_prime(n):\n",
    "    n = abs(n)\n",
    "\n",
    "    if n < 2:\n",
    "        return False\n",
    "    for i in range(2, int(n ** 0.5) + 1):\n",
    "        if n % i == 0:\n",
    "            return False\n",
    "    return True\n",
    "\n",
    "num = int(input(\"Enter the number:\"))\n",
    "print(is_prime(num))"
   ]
  },
  {
   "cell_type": "code",
   "execution_count": 23,
   "id": "1d0b7cd2-7f06-48d3-a454-6057a2c72859",
   "metadata": {},
   "outputs": [
    {
     "name": "stdin",
     "output_type": "stream",
     "text": [
      "Enter the number: 7\n"
     ]
    },
    {
     "name": "stdout",
     "output_type": "stream",
     "text": [
      "2 3 5 7 "
     ]
    }
   ],
   "source": [
    "# Print all prime numbers in a given range.\n",
    "def is_prime(n):\n",
    "    n = abs(n)\n",
    "\n",
    "    if n < 2:\n",
    "        return False\n",
    "    for i in range(2, int(n ** 0.5) + 1):\n",
    "        if n % i == 0:\n",
    "            return False\n",
    "    return True\n",
    "\n",
    "def prime_num(x):\n",
    "    for i in range(1, x+1):\n",
    "        if is_prime(i):\n",
    "            print(i, end = \" \")\n",
    "\n",
    "num = int(input(\"Enter the number:\"))\n",
    "prime_num(num)"
   ]
  },
  {
   "cell_type": "code",
   "execution_count": 31,
   "id": "7dcf033a-69d0-4e5f-bde7-f26fb8d39565",
   "metadata": {},
   "outputs": [
    {
     "name": "stdin",
     "output_type": "stream",
     "text": [
      "Enter the number: 5\n"
     ]
    },
    {
     "name": "stdout",
     "output_type": "stream",
     "text": [
      "Factorial of 5 is : 120\n"
     ]
    }
   ],
   "source": [
    "# Find the factorial of a number.\n",
    "def factorial(n):\n",
    "    n = abs(n)\n",
    "    fact = 1\n",
    "\n",
    "    if n == 0 or n == 1:\n",
    "        return 1\n",
    "    \n",
    "    for i in range(1, n+1):\n",
    "        fact *= i\n",
    "    return fact\n",
    "\n",
    "num = int(input(\"Enter the number:\"))\n",
    "print(f\"Factorial of {num} is : {factorial(num)}\")"
   ]
  },
  {
   "cell_type": "code",
   "execution_count": 33,
   "id": "4985df51-5ef3-45ed-a9f8-2071b7100737",
   "metadata": {},
   "outputs": [
    {
     "name": "stdin",
     "output_type": "stream",
     "text": [
      "Enter the number: 5\n"
     ]
    },
    {
     "name": "stdout",
     "output_type": "stream",
     "text": [
      "Fibonacci sequence up to 5 terms: [0, 1, 1, 2, 3]\n"
     ]
    }
   ],
   "source": [
    "# Generate the Fibonacci sequence up to n terms.\n",
    "def fibonacci(n):\n",
    "    sequence = []\n",
    "    a, b = 0, 1\n",
    "\n",
    "    for _ in range(n):\n",
    "        sequence.append(a)\n",
    "        a, b = b, a + b\n",
    "\n",
    "    return sequence\n",
    "\n",
    "num = int(input(\"Enter the number:\"))\n",
    "print(f\"Fibonacci sequence up to {num} terms: {fibonacci(num)}\")"
   ]
  },
  {
   "cell_type": "code",
   "execution_count": 37,
   "id": "e4ce0faf-219f-4b74-98a4-95a9dc123007",
   "metadata": {},
   "outputs": [
    {
     "name": "stdin",
     "output_type": "stream",
     "text": [
      "Enter the 1st number: 4\n",
      "Enter the 2nd number: 6\n",
      "Enter the 3rd number: 3\n"
     ]
    },
    {
     "name": "stdout",
     "output_type": "stream",
     "text": [
      "The greatest number is: 6\n"
     ]
    }
   ],
   "source": [
    "# Find the greatest of three numbers (without using max()).\n",
    "def greatest_num(a, b, c):\n",
    "    if a >= b and a >=c:\n",
    "        return a\n",
    "    elif b >= a and b >=c:\n",
    "        return b\n",
    "    else:\n",
    "        return c\n",
    "\n",
    "num1 = int(input(\"Enter the 1st number:\"))\n",
    "num2 = int(input(\"Enter the 2nd number:\"))\n",
    "num3 = int(input(\"Enter the 3rd number:\"))\n",
    "\n",
    "print(f\"The greatest number is: {greatest_num(num1, num2, num3)}\")"
   ]
  },
  {
   "cell_type": "code",
   "execution_count": 42,
   "id": "a27794cf-e2c1-45cf-aad6-2c44c9be3787",
   "metadata": {},
   "outputs": [
    {
     "name": "stdin",
     "output_type": "stream",
     "text": [
      "Enter the string: Krishan\n"
     ]
    },
    {
     "name": "stdout",
     "output_type": "stream",
     "text": [
      "2\n"
     ]
    }
   ],
   "source": [
    "# Count the number of vowels in a string.\n",
    "def count_vowels(text):\n",
    "    vowels = list(\"aeiouAEIOU\")\n",
    "    vowel_count = 0\n",
    "    \n",
    "    for char in text:\n",
    "        if char in vowels:\n",
    "            vowel_count +=1\n",
    "    return vowel_count\n",
    "\n",
    "text = input(\"Enter the string:\")\n",
    "print(count_vowels(text))"
   ]
  }
 ],
 "metadata": {
  "kernelspec": {
   "display_name": "Python [conda env:base] *",
   "language": "python",
   "name": "conda-base-py"
  },
  "language_info": {
   "codemirror_mode": {
    "name": "ipython",
    "version": 3
   },
   "file_extension": ".py",
   "mimetype": "text/x-python",
   "name": "python",
   "nbconvert_exporter": "python",
   "pygments_lexer": "ipython3",
   "version": "3.12.4"
  }
 },
 "nbformat": 4,
 "nbformat_minor": 5
}
