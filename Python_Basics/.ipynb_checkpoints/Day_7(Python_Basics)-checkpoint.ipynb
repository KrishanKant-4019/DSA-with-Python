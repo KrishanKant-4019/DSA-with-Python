{
 "cells": [
  {
   "cell_type": "code",
   "execution_count": 7,
   "id": "4ca49042-aeaa-491e-94bb-0307d0097543",
   "metadata": {},
   "outputs": [
    {
     "name": "stdin",
     "output_type": "stream",
     "text": [
      "Enter the array separated by spaces: 10 20 30 40 50\n",
      "Enter the element to found: 30\n"
     ]
    },
    {
     "name": "stdout",
     "output_type": "stream",
     "text": [
      "Element is found at index: 2\n"
     ]
    }
   ],
   "source": [
    "\"\"\" 1. Problem Statement\n",
    "    Find time complexity of linear search.\n",
    "\n",
    "    2. Algorithm\n",
    "    for i = 0 to n-1:\n",
    "        if arr[i] == key:\n",
    "            return i\n",
    "    return -1\n",
    "\n",
    "    3. Time Complexity\n",
    "        Best Case: O(1) → element at first index  \n",
    "        Worst Case: O(n) → element not present or present at last\n",
    "        Average Case: O(n)   \n",
    "\"\"\"\n",
    "\n",
    "arr = list(map(int, input(\"Enter the array separated by spaces:\").split()))\n",
    "key = int(input(\"Enter the element to found:\"))\n",
    "\n",
    "found = False\n",
    "for i in range(len(arr)):\n",
    "    if arr[i] == key:\n",
    "        print(f\"Element is found at index: {i}\")\n",
    "        found = True\n",
    "        break\n",
    "\n",
    "if not found:\n",
    "    print(\"Element is not found in the array!\")"
   ]
  },
  {
   "cell_type": "code",
   "execution_count": 3,
   "id": "14ad0199-c7b0-45e8-9bf6-7eb4d16d51e3",
   "metadata": {},
   "outputs": [
    {
     "name": "stdin",
     "output_type": "stream",
     "text": [
      "Enter the array separated by spaces: 10 20 30 40 50\n",
      "Enter the element to found: 20\n"
     ]
    },
    {
     "name": "stdout",
     "output_type": "stream",
     "text": [
      "Element found at index: 1\n"
     ]
    }
   ],
   "source": [
    "\"\"\" 1. Problem Statement\n",
    "    Find time complexity of binary search.\n",
    "\n",
    "    2. Algorithm\n",
    "    while low <= high:\n",
    "        if arr[mid] == key:\n",
    "            found = mid\n",
    "            break\n",
    "        elif arr[mid] < key:\n",
    "            low = mid + 1\n",
    "        else:\n",
    "            high = mid - 1\n",
    "    3. Time Complexity\n",
    "        Best Case: O(1) → element at first index  \n",
    "        Worst Case: O(log n) → element not present or present at last\n",
    "        Average Case: O(log n) \n",
    "\"\"\"   \n",
    "arr = list(map(int, input(\"Enter the array separated by spaces:\").split()))\n",
    "key = int(input(\"Enter the element to found:\"))\n",
    "\n",
    "low = 0\n",
    "high = len(arr) - 1\n",
    "\n",
    "found = -1\n",
    "while low <= high:\n",
    "    mid = (low + high) // 2\n",
    "\n",
    "    if arr[mid] == key:\n",
    "        found = mid\n",
    "        break\n",
    "    elif arr[mid] < key:\n",
    "        low = mid + 1\n",
    "    else:\n",
    "        high = mid - 1\n",
    "\n",
    "if found != -1:\n",
    "    print(f\"Element found at index: {found}\")\n",
    "else:\n",
    "    print(\"Element is not found in the array\")"
   ]
  },
  {
   "cell_type": "code",
   "execution_count": 5,
   "id": "179029a0-fbfe-4fd4-87e7-be7bf85080d3",
   "metadata": {},
   "outputs": [
    {
     "name": "stdin",
     "output_type": "stream",
     "text": [
      "Enter the number:  5\n"
     ]
    },
    {
     "name": "stdout",
     "output_type": "stream",
     "text": [
      "Factorial of 5 is : 120\n"
     ]
    }
   ],
   "source": [
    "\"\"\" \n",
    "1. Problem Statement\n",
    "    Find complexity of finding factorial (recursion).\n",
    "\n",
    "2. Algorithm\n",
    "    1. If n < 0, return -1 (invalid input).\n",
    "    2. If n == 0 or n == 1, return 1 (base case).\n",
    "    3. Otherwise, return n * factorial_recursion(n-1) (recursive case).\n",
    "\n",
    "3. Time Complexity\n",
    "    Best Case: O(n)\n",
    "    Worst Case: O(n)\n",
    "    Average Case: O(n)\n",
    "\"\"\"\n",
    "\n",
    "def factorial_recursion(n):\n",
    "    if n < 0:\n",
    "        return -1\n",
    "    elif n == 0 or n == 1:\n",
    "        return 1\n",
    "    else:\n",
    "        return n * factorial_recursion(n-1)\n",
    "\n",
    "num = int(input(\"Enter the number: \"))\n",
    "print(f\"Factorial of {num} is : {factorial_recursion(num)}\")"
   ]
  },
  {
   "cell_type": "code",
   "execution_count": 8,
   "id": "0a016419-7811-4669-90b1-02fce410cae4",
   "metadata": {},
   "outputs": [
    {
     "name": "stdin",
     "output_type": "stream",
     "text": [
      "Enter a text: Mam\n"
     ]
    },
    {
     "name": "stdout",
     "output_type": "stream",
     "text": [
      "True\n"
     ]
    }
   ],
   "source": [
    "\"\"\"\n",
    "1. Problem Statement\n",
    "    Find complexity of checking palindrome of a string.\n",
    "\n",
    "2. Algorithm\n",
    "    1. Convert the string to lowercase to ignore case differences.\n",
    "    2. Reverse the string using slicing (txt[::-1]).\n",
    "    3. Compare the original string with the reversed string:\n",
    "        - If they are equal, it is a palindrome → return True\n",
    "        - Else, it is not a palindrome → return False\n",
    "        \n",
    "3. Time Complexity\n",
    "    Best Case: O(n) → need to compare all characters\n",
    "    Worst Case: O(n) → need to compare all characters\n",
    "    Average Case: O(n)\n",
    "\"\"\"   \n",
    "def is_palindrome(txt):\n",
    "\n",
    "    if txt == txt[::-1]:\n",
    "        return True\n",
    "    return False\n",
    "\n",
    "txt = input(\"Enter a text:\").lower()\n",
    "print(is_palindrome(txt))"
   ]
  }
 ],
 "metadata": {
  "kernelspec": {
   "display_name": "Python [conda env:base] *",
   "language": "python",
   "name": "conda-base-py"
  },
  "language_info": {
   "codemirror_mode": {
    "name": "ipython",
    "version": 3
   },
   "file_extension": ".py",
   "mimetype": "text/x-python",
   "name": "python",
   "nbconvert_exporter": "python",
   "pygments_lexer": "ipython3",
   "version": "3.12.4"
  }
 },
 "nbformat": 4,
 "nbformat_minor": 5
}
