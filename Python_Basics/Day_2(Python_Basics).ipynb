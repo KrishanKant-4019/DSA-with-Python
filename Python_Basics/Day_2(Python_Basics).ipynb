{
 "cells": [
  {
   "cell_type": "code",
   "execution_count": 2,
   "id": "6f6dd7e4-be93-4686-9ddf-ce9bd8fc572e",
   "metadata": {},
   "outputs": [
    {
     "name": "stdin",
     "output_type": "stream",
     "text": [
      "Enter a number:  112223344848\n"
     ]
    },
    {
     "name": "stdout",
     "output_type": "stream",
     "text": [
      "Digit frequencies:\n",
      "1 → 2\n",
      "2 → 3\n",
      "3 → 2\n",
      "4 → 3\n",
      "8 → 2\n"
     ]
    }
   ],
   "source": [
    "# Count how many times each digit appears in a number\n",
    "def count_digit_frequency(number):\n",
    "    num_str = str(number)\n",
    "\n",
    "    digit_count = {}\n",
    "\n",
    "    for digit in num_str:\n",
    "        digit_count[digit] = digit_count.get(digit, 0) + 1\n",
    "\n",
    "    return digit_count\n",
    "\n",
    "num = int(input(\"Enter a number: \"))\n",
    "result = count_digit_frequency(num)\n",
    "\n",
    "print(\"Digit frequencies:\")\n",
    "for digit, count in sorted(result.items()):\n",
    "    print(f\"{digit} → {count}\")"
   ]
  },
  {
   "cell_type": "code",
   "execution_count": 10,
   "id": "35cc1460-21c0-40c2-bc9a-c51f4940d5bb",
   "metadata": {},
   "outputs": [
    {
     "name": "stdin",
     "output_type": "stream",
     "text": [
      "Enter the number: 5\n"
     ]
    },
    {
     "name": "stdout",
     "output_type": "stream",
     "text": [
      "* \n",
      "* * \n",
      "* * * \n",
      "* * * * \n",
      "* * * * * \n"
     ]
    }
   ],
   "source": [
    "# Print a right-angled triangle pattern of *.\n",
    "def right_angle_pattern(n):\n",
    "    n = abs(n)\n",
    "    \n",
    "    for i in range(1, n+1):\n",
    "        for j in range(i):\n",
    "            print(\"*\", end = \" \")\n",
    "        print()\n",
    "\n",
    "num = int(input(\"Enter the number:\"))\n",
    "right_angle_pattern(num)"
   ]
  },
  {
   "cell_type": "code",
   "execution_count": 19,
   "id": "5480a85d-7d6a-4c5f-ad08-17cb94f532ec",
   "metadata": {},
   "outputs": [
    {
     "name": "stdin",
     "output_type": "stream",
     "text": [
      "Enter the number: 6\n"
     ]
    },
    {
     "name": "stdout",
     "output_type": "stream",
     "text": [
      "      * \n",
      "     * * \n",
      "    * * * \n",
      "   * * * * \n",
      "  * * * * * \n",
      " * * * * * * \n"
     ]
    }
   ],
   "source": [
    "# Print a pyramid pattern of *.\n",
    "def pyramid_pattern(n):\n",
    "    n = abs(n)\n",
    "    \n",
    "    for i in range(1, n+1):\n",
    "        print(\" \" * (n - i), end=\" \")\n",
    "        print(\"* \" * i)\n",
    "\n",
    "num = int(input(\"Enter the number:\"))\n",
    "pyramid_pattern(num)"
   ]
  },
  {
   "cell_type": "code",
   "execution_count": 21,
   "id": "f0449b83-5278-479b-816b-80c0ebc05c40",
   "metadata": {},
   "outputs": [
    {
     "name": "stdin",
     "output_type": "stream",
     "text": [
      "Enter the number: 153\n"
     ]
    },
    {
     "name": "stdout",
     "output_type": "stream",
     "text": [
      "True\n"
     ]
    }
   ],
   "source": [
    "# Check if a number is an Armstrong number.\n",
    "def is_armstrong(n):\n",
    "    original = n\n",
    "    length = len(str(n))\n",
    "    result = 0\n",
    "\n",
    "    while n > 0:\n",
    "        digit = n % 10\n",
    "        result += pow(digit, length)\n",
    "        n //= 10\n",
    "        \n",
    "    if result == original:\n",
    "        return True\n",
    "    return False\n",
    "\n",
    "num = int(input(\"Enter the number:\"))\n",
    "print(is_armstrong(num))"
   ]
  },
  {
   "cell_type": "code",
   "execution_count": 25,
   "id": "18c60228-9089-4533-953d-7c2289680daa",
   "metadata": {},
   "outputs": [
    {
     "name": "stdin",
     "output_type": "stream",
     "text": [
      "Enter the number: 6\n"
     ]
    },
    {
     "name": "stdout",
     "output_type": "stream",
     "text": [
      "True\n"
     ]
    }
   ],
   "source": [
    "# Check if a number is an Perfect number.\n",
    "def is_perfect(n):\n",
    "    original = n\n",
    "    n = abs(n)\n",
    "    result = 0\n",
    "    \n",
    "    for i in range(1, n):\n",
    "        if n % i == 0:\n",
    "            result += i\n",
    "            \n",
    "    if result == original:\n",
    "        return True\n",
    "    return False\n",
    "\n",
    "num = int(input(\"Enter the number:\"))\n",
    "print(is_perfect(num))"
   ]
  },
  {
   "cell_type": "code",
   "execution_count": 27,
   "id": "aa3f0ebd-20bf-4f44-850e-8b10820a8b08",
   "metadata": {},
   "outputs": [
    {
     "name": "stdin",
     "output_type": "stream",
     "text": [
      "Enter the number: 121\n"
     ]
    },
    {
     "name": "stdout",
     "output_type": "stream",
     "text": [
      "True\n"
     ]
    }
   ],
   "source": [
    "# Check whether a number is palindrome.\n",
    "def is_palindrome(n):\n",
    "    original = n\n",
    "    n = abs(n)\n",
    "    rev = 0\n",
    "\n",
    "    while n > 0:\n",
    "        digit = n % 10\n",
    "        rev = rev * 10 + digit\n",
    "        n //= 10\n",
    "\n",
    "    if rev == original:\n",
    "        return True\n",
    "    return False\n",
    "\n",
    "num = int(input(\"Enter the number:\"))\n",
    "print(is_palindrome(num))"
   ]
  },
  {
   "cell_type": "code",
   "execution_count": 30,
   "id": "d90d1259-3d7e-4345-ac8f-95049c43b117",
   "metadata": {},
   "outputs": [
    {
     "name": "stdin",
     "output_type": "stream",
     "text": [
      "Enter the number: 10\n"
     ]
    },
    {
     "name": "stdout",
     "output_type": "stream",
     "text": [
      "30\n"
     ]
    }
   ],
   "source": [
    "# Find the sum of all even numbers from 1 to n.\n",
    "def even_sum(n):\n",
    "    n = abs(n)\n",
    "    even_count = 0\n",
    "\n",
    "    for i in range(1, n+1):\n",
    "        if i % 2 == 0:\n",
    "            even_count += i\n",
    "    return even_count\n",
    "\n",
    "num = int(input(\"Enter the number:\"))\n",
    "print(even_sum(num))"
   ]
  },
  {
   "cell_type": "code",
   "execution_count": 38,
   "id": "d206e262-42c9-4990-b886-41b1c53687b7",
   "metadata": {},
   "outputs": [
    {
     "name": "stdin",
     "output_type": "stream",
     "text": [
      "Enter a string:  Krishan\n"
     ]
    },
    {
     "name": "stdout",
     "output_type": "stream",
     "text": [
      "{'K': 1, 'r': 1, 'i': 1, 's': 1, 'h': 1, 'a': 1, 'n': 1}\n"
     ]
    }
   ],
   "source": [
    "# Count frequency of each character in a string.\n",
    "def frequency_count(text):\n",
    "    char_dict = {}\n",
    "\n",
    "    for ch in text:\n",
    "        if ch.isalpha():\n",
    "            char_dict[ch] = char_dict.get(ch, 0) + 1\n",
    "    return char_dict\n",
    "\n",
    "string = input(\"Enter a string: \")\n",
    "print(frequency_count(string))"
   ]
  },
  {
   "cell_type": "code",
   "execution_count": 50,
   "id": "9202f36d-924e-40c8-ad6a-6fef3551cf60",
   "metadata": {},
   "outputs": [
    {
     "name": "stdin",
     "output_type": "stream",
     "text": [
      "Enter first number:  4\n",
      "Enter second number:  5\n"
     ]
    },
    {
     "name": "stdout",
     "output_type": "stream",
     "text": [
      "After Swapping a = 5, b = 4\n"
     ]
    }
   ],
   "source": [
    "# Swap two numbers without using a third variable.\n",
    "def swap_number(a, b):\n",
    "    a = a + b\n",
    "    b = a - b\n",
    "    a = a - b\n",
    "    return a, b\n",
    "\n",
    "x = int(input(\"Enter first number: \"))\n",
    "y = int(input(\"Enter second number: \"))\n",
    "\n",
    "x, y = swap_number(x, y)  \n",
    "print(f\"After Swapping a = {x}, b = {y}\")"
   ]
  },
  {
   "cell_type": "code",
   "execution_count": 57,
   "id": "19d09241-5dec-4893-bd98-2d73db9e7fff",
   "metadata": {},
   "outputs": [
    {
     "name": "stdin",
     "output_type": "stream",
     "text": [
      "Enter first number: 12\n",
      "Enter second number: 18\n"
     ]
    },
    {
     "name": "stdout",
     "output_type": "stream",
     "text": [
      "GCD: 6\n",
      "LCM: 36\n"
     ]
    }
   ],
   "source": [
    "# Find the GCD and LCM of two numbers.\n",
    "def gcd(a, b):\n",
    "    while b != 0:\n",
    "        a, b = b, a % b      \n",
    "    return abs(a)             \n",
    "\n",
    "def lcm(a, b):\n",
    "    if a == 0 or b == 0:\n",
    "        return 0              \n",
    "    return abs(a * b) // gcd(a, b)\n",
    "\n",
    "x = int(input(\"Enter first number:\"))\n",
    "y = int(input(\"Enter second number:\"))\n",
    "\n",
    "print(\"GCD:\", gcd(x, y))\n",
    "print(\"LCM:\", lcm(x, y))"
   ]
  }
 ],
 "metadata": {
  "kernelspec": {
   "display_name": "Python [conda env:base] *",
   "language": "python",
   "name": "conda-base-py"
  },
  "language_info": {
   "codemirror_mode": {
    "name": "ipython",
    "version": 3
   },
   "file_extension": ".py",
   "mimetype": "text/x-python",
   "name": "python",
   "nbconvert_exporter": "python",
   "pygments_lexer": "ipython3",
   "version": "3.12.4"
  }
 },
 "nbformat": 4,
 "nbformat_minor": 5
}
