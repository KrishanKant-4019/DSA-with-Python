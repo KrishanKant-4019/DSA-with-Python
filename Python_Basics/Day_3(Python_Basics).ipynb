{
 "cells": [
  {
   "cell_type": "code",
   "execution_count": 1,
   "id": "7662e57c-6383-4579-bb96-0f1ab2dc753c",
   "metadata": {},
   "outputs": [
    {
     "name": "stdin",
     "output_type": "stream",
     "text": [
      "Enter the number: 121\n"
     ]
    },
    {
     "name": "stdout",
     "output_type": "stream",
     "text": [
      "True\n"
     ]
    }
   ],
   "source": [
    "# Write a function to check if a string is palindrome.\n",
    "def is_palindrome(n):\n",
    "    original = n\n",
    "    n = abs(n)\n",
    "    rev = 0\n",
    "\n",
    "    while n > 0:\n",
    "        digit = n % 10\n",
    "        rev = rev * 10 + digit\n",
    "        n //=10\n",
    "\n",
    "    if rev == original:\n",
    "        return True\n",
    "    return False\n",
    "\n",
    "num = int(input(\"Enter the number:\"))\n",
    "print(is_palindrome(num))"
   ]
  },
  {
   "cell_type": "code",
   "execution_count": 3,
   "id": "69172b58-8a48-4816-b054-27077fbaee32",
   "metadata": {},
   "outputs": [
    {
     "name": "stdin",
     "output_type": "stream",
     "text": [
      "Enter the number:  5\n"
     ]
    },
    {
     "name": "stdout",
     "output_type": "stream",
     "text": [
      "Factorial is: 120\n"
     ]
    }
   ],
   "source": [
    "# Write a function to calculate the factorial (iterative).\n",
    "def factorial_iterative(n):\n",
    "    if n < 0:\n",
    "        return \"Factorial not defined for negative numbers\"\n",
    "    fact = 1\n",
    "    for i in range(2, n+1):\n",
    "        fact *= i\n",
    "    return fact\n",
    "\n",
    "num = int(input(\"Enter the number: \"))\n",
    "print(\"Factorial is:\", factorial_iterative(num))"
   ]
  },
  {
   "cell_type": "code",
   "execution_count": 6,
   "id": "6b64d2eb-df80-45d9-a623-c2ec2827d1c4",
   "metadata": {},
   "outputs": [
    {
     "name": "stdin",
     "output_type": "stream",
     "text": [
      "Enter the number: 5\n"
     ]
    },
    {
     "name": "stdout",
     "output_type": "stream",
     "text": [
      "Factorial is: 120\n"
     ]
    }
   ],
   "source": [
    "# Write a function to calculate the factorial (recursive).\n",
    "def factorial_recursive(num):\n",
    "    if num < 0:\n",
    "        return \"Factorial not defined for negative numbers\"\n",
    "    elif num == 0 or num == 1:\n",
    "        return 1\n",
    "    else:\n",
    "        return num * factorial_recursive(num-1)\n",
    "\n",
    "num = int(input(\"Enter the number:\"))\n",
    "print(\"Factorial is:\", factorial_recursive(num))"
   ]
  },
  {
   "cell_type": "code",
   "execution_count": 8,
   "id": "7bb33195-a46c-48b2-8f0a-c40014f8d554",
   "metadata": {},
   "outputs": [
    {
     "name": "stdin",
     "output_type": "stream",
     "text": [
      "Enter n:  5\n"
     ]
    },
    {
     "name": "stdout",
     "output_type": "stream",
     "text": [
      "The 5th Fibonacci number is: 8\n"
     ]
    }
   ],
   "source": [
    "# Write a recursive function to find the nth Fibonacci number.\n",
    "def fibonacci(n):\n",
    "    if n < 0:\n",
    "        return \"Invalid Input!\"\n",
    "    elif n == 0 or n == 1:\n",
    "        return 1\n",
    "    else:\n",
    "        return fibonacci(n-1) + fibonacci(n-2)\n",
    "\n",
    "num = int(input(\"Enter n: \"))\n",
    "print(f\"The {num}th Fibonacci number is: {fibonacci(num)}\")"
   ]
  },
  {
   "cell_type": "code",
   "execution_count": 3,
   "id": "5ab50ff8-f9e2-4d0b-9246-ae5f2dd7ce91",
   "metadata": {},
   "outputs": [
    {
     "name": "stdin",
     "output_type": "stream",
     "text": [
      "Enter the base: 3\n",
      "Enter the exponent: 4\n"
     ]
    },
    {
     "name": "stdout",
     "output_type": "stream",
     "text": [
      "Result: 81\n"
     ]
    }
   ],
   "source": [
    "# Write a function to calculate power of a number using recursion.\n",
    "def power(base, exponent):\n",
    "    if exponent == 0:\n",
    "        return 1\n",
    "    elif exponent > 0:\n",
    "        return base * power(base, exponent-1)\n",
    "    else:\n",
    "        return 1 / power(base, -exponent)\n",
    "\n",
    "base = int(input(\"Enter the base:\"))\n",
    "exponent = int(input(\"Enter the exponent:\"))\n",
    "print(\"Result:\", power(base, exponent))"
   ]
  },
  {
   "cell_type": "code",
   "execution_count": 4,
   "id": "ed99502e-98e1-47b4-ad86-b6421d7596e8",
   "metadata": {},
   "outputs": [
    {
     "name": "stdin",
     "output_type": "stream",
     "text": [
      "Enter the number: 123\n"
     ]
    },
    {
     "name": "stdout",
     "output_type": "stream",
     "text": [
      "Sum of the digits is: 6\n"
     ]
    }
   ],
   "source": [
    "# Write a recursive function to sum digits of a number.\n",
    "def sum_digits(n):\n",
    "    if n < 10:\n",
    "        return n\n",
    "    else:\n",
    "        return n % 10 + sum_digits(n // 10)\n",
    "\n",
    "num = int(input(\"Enter the number:\"))\n",
    "print(\"Sum of the digits is:\", sum_digits(num))"
   ]
  },
  {
   "cell_type": "code",
   "execution_count": 8,
   "id": "73069c9c-5f9e-4609-993c-2b6c03636b23",
   "metadata": {},
   "outputs": [
    {
     "name": "stdin",
     "output_type": "stream",
     "text": [
      "Enter the string: Krishan\n"
     ]
    },
    {
     "name": "stdout",
     "output_type": "stream",
     "text": [
      "Reversed String is: nahsirK\n"
     ]
    }
   ],
   "source": [
    "# Write a recursive function to reverse a string.\n",
    "def reverse_string(s):\n",
    "    if len(s) <= 1:\n",
    "        return s\n",
    "    else:\n",
    "        return s[-1] + reverse_string(s[:-1])\n",
    "\n",
    "s = input(\"Enter the string:\")\n",
    "print(\"Reversed String is:\", reverse_string(s))"
   ]
  }
 ],
 "metadata": {
  "kernelspec": {
   "display_name": "Python [conda env:base] *",
   "language": "python",
   "name": "conda-base-py"
  },
  "language_info": {
   "codemirror_mode": {
    "name": "ipython",
    "version": 3
   },
   "file_extension": ".py",
   "mimetype": "text/x-python",
   "name": "python",
   "nbconvert_exporter": "python",
   "pygments_lexer": "ipython3",
   "version": "3.12.4"
  }
 },
 "nbformat": 4,
 "nbformat_minor": 5
}
