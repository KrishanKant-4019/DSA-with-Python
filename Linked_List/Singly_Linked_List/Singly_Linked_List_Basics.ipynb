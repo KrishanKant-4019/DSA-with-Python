{
 "cells": [
  {
   "cell_type": "markdown",
   "id": "39fd59ef-827a-4f65-bf24-b591372365ae",
   "metadata": {},
   "source": [
    "# Basic Node Structure in Python"
   ]
  },
  {
   "cell_type": "code",
   "execution_count": 1,
   "id": "b628be25-4e2c-4bfe-9b90-cc431a154a86",
   "metadata": {},
   "outputs": [],
   "source": [
    "class Node:\n",
    "    def __init__(self, data):\n",
    "        self.data = data\n",
    "        self.next = None"
   ]
  },
  {
   "cell_type": "code",
   "execution_count": 2,
   "id": "73219c94-afd8-462b-9200-fdd6334e7a0e",
   "metadata": {},
   "outputs": [],
   "source": [
    "a = Node(1)\n",
    "b = Node(2)\n",
    "c = Node(3)"
   ]
  },
  {
   "cell_type": "code",
   "execution_count": 3,
   "id": "29fcb182-f735-4b6a-a356-5f04c54404bf",
   "metadata": {},
   "outputs": [
    {
     "name": "stdout",
     "output_type": "stream",
     "text": [
      "1 2 3\n"
     ]
    }
   ],
   "source": [
    "print(a.data, b.data, c.data)"
   ]
  },
  {
   "cell_type": "code",
   "execution_count": 4,
   "id": "690f9345-b69c-46e3-b2b7-1af4d61b692c",
   "metadata": {},
   "outputs": [
    {
     "name": "stdout",
     "output_type": "stream",
     "text": [
      "None None None\n"
     ]
    }
   ],
   "source": [
    "print(a.next, b.next, c.next)"
   ]
  },
  {
   "cell_type": "code",
   "execution_count": 7,
   "id": "8a9fd3e2-8035-414b-b1b8-997f06f11637",
   "metadata": {},
   "outputs": [],
   "source": [
    "a.next = b\n",
    "b.next = c"
   ]
  },
  {
   "cell_type": "code",
   "execution_count": 9,
   "id": "f8d3dbbf-9917-46e9-89bf-0671e66e3f19",
   "metadata": {},
   "outputs": [
    {
     "name": "stdout",
     "output_type": "stream",
     "text": [
      "None\n"
     ]
    }
   ],
   "source": [
    "print(c.next)"
   ]
  },
  {
   "cell_type": "markdown",
   "id": "22e606ea-aefe-44ed-a635-9c81dad43b8f",
   "metadata": {},
   "source": [
    "# Singly Linked List Class"
   ]
  },
  {
   "cell_type": "code",
   "execution_count": 11,
   "id": "36bac8e4-f67a-469a-9451-0192651ede4d",
   "metadata": {},
   "outputs": [
    {
     "name": "stdout",
     "output_type": "stream",
     "text": [
      "10->20->30->40->None\n"
     ]
    }
   ],
   "source": [
    "class LinkedList:\n",
    "    def __init__(self):\n",
    "        self.head = None # initially empty list\n",
    "        self.n = 0 # Total number of nodes in Linked List\n",
    "\n",
    "    def __str__(self):\n",
    "        return self.n\n",
    "\n",
    "    # Add node at the end\n",
    "    def append(self, data):\n",
    "        new_node = Node(data)\n",
    "\n",
    "        if self.head is None:\n",
    "            self.head = new_node\n",
    "            self.n += 1\n",
    "            return\n",
    "        current = self.head\n",
    "        while current.next:\n",
    "            current = current.next\n",
    "        current.next = new_node\n",
    "        self.n += 1\n",
    "\n",
    "    # Traverse and print elements\n",
    "    def display(self):\n",
    "        current = self.head\n",
    "        while current:\n",
    "            print(current.data, end = \"->\")\n",
    "            current = current.next\n",
    "        print(\"None\")\n",
    "\n",
    "# Create Linked List and add elements\n",
    "ll = LinkedList()\n",
    "ll.append(10)\n",
    "ll.append(20)\n",
    "ll.append(30)\n",
    "ll.append(40)\n",
    "\n",
    "# Display the list\n",
    "ll.display()"
   ]
  }
 ],
 "metadata": {
  "kernelspec": {
   "display_name": "Python 3 (ipykernel)",
   "language": "python",
   "name": "python3"
  },
  "language_info": {
   "codemirror_mode": {
    "name": "ipython",
    "version": 3
   },
   "file_extension": ".py",
   "mimetype": "text/x-python",
   "name": "python",
   "nbconvert_exporter": "python",
   "pygments_lexer": "ipython3",
   "version": "3.12.4"
  }
 },
 "nbformat": 4,
 "nbformat_minor": 5
}
