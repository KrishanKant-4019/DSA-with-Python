{
 "cells": [
  {
   "cell_type": "markdown",
   "id": "9a642fb7-59f4-406a-907b-207996956cf9",
   "metadata": {},
   "source": [
    "# Insertion"
   ]
  },
  {
   "cell_type": "code",
   "execution_count": 10,
   "id": "24d92347-ec68-47e6-9607-7b8744370676",
   "metadata": {},
   "outputs": [
    {
     "name": "stdout",
     "output_type": "stream",
     "text": [
      "10 -> 15 -> 20 -> 30 -> None\n"
     ]
    }
   ],
   "source": [
    "class Node:\n",
    "    def __init__(self, data):\n",
    "        self.data = data\n",
    "        self.next = None\n",
    "\n",
    "class LinkedList:\n",
    "    def __init__(self):\n",
    "        self.head = None\n",
    "\n",
    "    # Insert at head\n",
    "    def insert_at_head(self, data):\n",
    "        new_node = Node(data)\n",
    "        new_node.next = self.head\n",
    "        self.head = new_node\n",
    "\n",
    "    # Insert at tail\n",
    "    def insert_at_tail(self, data):\n",
    "        new_node = Node(data)\n",
    "        if self.head is None:\n",
    "            self.head = new_node\n",
    "            return\n",
    "        current = self.head\n",
    "        while current.next:\n",
    "            current = current.next\n",
    "        current.next = new_node\n",
    "\n",
    "    # Insert at specific position\n",
    "    def insert_at_position(self, position, data):\n",
    "        if position == 0:\n",
    "            self.insert_at_head(data)\n",
    "            return\n",
    "        new_node = Node(data)\n",
    "        current = self.head\n",
    "        for _ in range(position - 1):\n",
    "            if current is None:\n",
    "                raise Exception(\"Position out of bounds!\")\n",
    "            current = current.next\n",
    "        new_node.next = current.next\n",
    "        current.next = new_node\n",
    "\n",
    "    # Display the linked list\n",
    "    def display(self):\n",
    "        current = self.head\n",
    "        while current:\n",
    "            print(current.data, end = \" -> \")\n",
    "            current = current.next\n",
    "        print(\"None\")\n",
    "\n",
    "ll = LinkedList()\n",
    "\n",
    "ll.insert_at_head(10)\n",
    "ll.insert_at_tail(20)\n",
    "ll.insert_at_tail(30)\n",
    "ll.insert_at_position(1, 15) \n",
    "\n",
    "ll.display()"
   ]
  },
  {
   "cell_type": "markdown",
   "id": "a8e447ce-f5af-4e5f-90ea-9c4e8f80ae88",
   "metadata": {},
   "source": [
    "# Deletion"
   ]
  },
  {
   "cell_type": "code",
   "execution_count": 12,
   "id": "b15d9ef2-8f02-4d93-9304-0132a7bf8570",
   "metadata": {},
   "outputs": [
    {
     "name": "stdout",
     "output_type": "stream",
     "text": [
      "10 -> 20 -> 30 -> 40 -> None\n",
      "20 -> 30 -> 40 -> None\n",
      "20 -> 30 -> None\n",
      "30 -> None\n"
     ]
    }
   ],
   "source": [
    "class Node:\n",
    "    def __init__(self, data):\n",
    "        self.data = data\n",
    "        self.next = None\n",
    "\n",
    "class LinkedList:\n",
    "    def __init__(self):\n",
    "        self.head = None\n",
    "\n",
    "    # Display the linked list\n",
    "    def display(self):\n",
    "        current = self.head\n",
    "        while current:\n",
    "            print(current.data, end = \" -> \")\n",
    "            current = current.next\n",
    "        print(\"None\")\n",
    "\n",
    "    # Delete from head\n",
    "    def delete_head(self):\n",
    "        if self.head is None:\n",
    "            return\n",
    "        self.head = self.head.next\n",
    "\n",
    "    # Delete from tail\n",
    "    def delete_tail(self):\n",
    "        if self.head is None:\n",
    "            return\n",
    "        if self.head.next is None:  # Only one node\n",
    "            self.head = None\n",
    "            return\n",
    "        current = self.head\n",
    "        while current.next.next:  # Stop at second-last node\n",
    "            current = current.next\n",
    "        current.next = None\n",
    "\n",
    "    # Delete by value \n",
    "    def delete_by_value(self, value):\n",
    "        if self.head is None:\n",
    "            return\n",
    "        if self.head.data == value:\n",
    "            self.head = self.head.next\n",
    "            return\n",
    "        current = self.head\n",
    "        while current.next and current.next.data != value:\n",
    "            current = current.next\n",
    "        if current.next:\n",
    "            current.next = current.next.next\n",
    "\n",
    "ll = LinkedList()\n",
    "ll.head = Node(10)\n",
    "ll.head.next = Node(20)\n",
    "ll.head.next.next = Node(30)\n",
    "ll.head.next.next.next = Node(40)\n",
    "\n",
    "ll.display()\n",
    "\n",
    "ll.delete_head()\n",
    "ll.display()\n",
    "\n",
    "ll.delete_tail()\n",
    "ll.display()\n",
    "\n",
    "ll.delete_by_value(20)\n",
    "ll.display()"
   ]
  }
 ],
 "metadata": {
  "kernelspec": {
   "display_name": "Python 3 (ipykernel)",
   "language": "python",
   "name": "python3"
  },
  "language_info": {
   "codemirror_mode": {
    "name": "ipython",
    "version": 3
   },
   "file_extension": ".py",
   "mimetype": "text/x-python",
   "name": "python",
   "nbconvert_exporter": "python",
   "pygments_lexer": "ipython3",
   "version": "3.12.4"
  }
 },
 "nbformat": 4,
 "nbformat_minor": 5
}
