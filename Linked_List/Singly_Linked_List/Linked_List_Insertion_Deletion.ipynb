{
 "cells": [
  {
   "cell_type": "code",
   "execution_count": 1,
   "id": "24d92347-ec68-47e6-9607-7b8744370676",
   "metadata": {},
   "outputs": [],
   "source": [
    "class Node:\n",
    "    def __init__(self, data):\n",
    "        self.data = data\n",
    "        self.next = None\n",
    "\n",
    "class LinkedList:\n",
    "    def __init__(self):\n",
    "        self.head = None"
   ]
  },
  {
   "cell_type": "markdown",
   "id": "9a642fb7-59f4-406a-907b-207996956cf9",
   "metadata": {},
   "source": [
    "# Insertion"
   ]
  },
  {
   "cell_type": "markdown",
   "id": "b339114c-a2bf-4fce-ae6d-c22012973806",
   "metadata": {},
   "source": [
    "#### Insert at the Head"
   ]
  },
  {
   "cell_type": "code",
   "execution_count": 3,
   "id": "f3689a80-e5cf-45f1-9848-e054736a4071",
   "metadata": {},
   "outputs": [],
   "source": [
    "def insert_at_head(self, data):\n",
    "    new_node = Node(data)\n",
    "    new_node.next = self.head\n",
    "    self.head = new_node"
   ]
  },
  {
   "cell_type": "markdown",
   "id": "dc6b0ac9-1265-4583-8c15-6948ab8a6528",
   "metadata": {},
   "source": [
    "#### Insert at the Tail"
   ]
  },
  {
   "cell_type": "code",
   "execution_count": 4,
   "id": "e50f7b03-08b0-4695-8b7f-a468035ce3f2",
   "metadata": {},
   "outputs": [],
   "source": [
    "def insert_at_tail(self, data):\n",
    "    if self.head is None:\n",
    "        self.head = new_node\n",
    "        return\n",
    "    current = self.head\n",
    "    while current.next:\n",
    "        current = current.next\n",
    "    current.next = new_node"
   ]
  },
  {
   "cell_type": "markdown",
   "id": "d7d96187-131e-4a26-8f12-59e41e90065f",
   "metadata": {},
   "source": [
    "#### Insert at a Specific Position"
   ]
  },
  {
   "cell_type": "code",
   "execution_count": 6,
   "id": "2ffe9240-d4e9-43d9-acda-9db6921b3aa6",
   "metadata": {},
   "outputs": [],
   "source": [
    "def insert_at_position(self, position, data):\n",
    "    if position == 0:\n",
    "        self.insert_at_head(data)\n",
    "        return\n",
    "    new_node = Node(data)\n",
    "    current = self.head\n",
    "    for _ in range(position - 1):\n",
    "        if current is None:\n",
    "            raise Exception(\"Position out of bounds!\")\n",
    "        current = current.next\n",
    "    new_node.next = current.next\n",
    "    current.next = new_node"
   ]
  },
  {
   "cell_type": "code",
   "execution_count": null,
   "id": "ff00468f-63af-4070-81a3-bb363da22135",
   "metadata": {},
   "outputs": [],
   "source": []
  }
 ],
 "metadata": {
  "kernelspec": {
   "display_name": "Python 3 (ipykernel)",
   "language": "python",
   "name": "python3"
  },
  "language_info": {
   "codemirror_mode": {
    "name": "ipython",
    "version": 3
   },
   "file_extension": ".py",
   "mimetype": "text/x-python",
   "name": "python",
   "nbconvert_exporter": "python",
   "pygments_lexer": "ipython3",
   "version": "3.12.4"
  }
 },
 "nbformat": 4,
 "nbformat_minor": 5
}
