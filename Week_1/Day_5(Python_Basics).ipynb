{
 "cells": [
  {
   "cell_type": "code",
   "execution_count": 14,
   "id": "6efb9eb5-4889-4e59-b0af-388ae49d9f43",
   "metadata": {},
   "outputs": [
    {
     "name": "stdin",
     "output_type": "stream",
     "text": [
      "Enter numbers separated by spaces:  1 2 3 4 5 6 7 8\n"
     ]
    },
    {
     "name": "stdout",
     "output_type": "stream",
     "text": [
      "Maximum element is: 8\n"
     ]
    }
   ],
   "source": [
    "# Find the maximum element in a list.\n",
    "def max_element(lst):\n",
    "    max_num = lst[0]\n",
    "\n",
    "    for num in lst:\n",
    "        if num > max_num:\n",
    "            max_num = num\n",
    "    return max_num\n",
    "\n",
    "lst = list(map(int, input(\"Enter numbers separated by spaces: \").split()))\n",
    "print(\"Maximum element is:\", max_element(lst))"
   ]
  },
  {
   "cell_type": "code",
   "execution_count": 13,
   "id": "d4e88fdd-4648-467c-8065-636cb2df16f6",
   "metadata": {},
   "outputs": [
    {
     "name": "stdin",
     "output_type": "stream",
     "text": [
      "Enter the number separated by spaces: 1 2 3 4 5 6 7 8\n"
     ]
    },
    {
     "name": "stdout",
     "output_type": "stream",
     "text": [
      "Second largest element is: 7\n"
     ]
    }
   ],
   "source": [
    "# Find the second largest element in a list.\n",
    "def second_largest(lst):\n",
    "    if len(set(lst)) < 2:\n",
    "        return None\n",
    "\n",
    "    first = second = float('-inf')\n",
    "    \n",
    "    for num in lst:\n",
    "        if num > first:\n",
    "            second = first\n",
    "            first = num\n",
    "        elif num > second and num < first:\n",
    "            second = num\n",
    "    return second\n",
    "\n",
    "lst = list(map(int, input(\"Enter the number separated by spaces:\").split()))\n",
    "print(\"Second largest element is:\", second_largest(lst))"
   ]
  },
  {
   "cell_type": "code",
   "execution_count": 16,
   "id": "c184ccc5-a026-4751-a067-30e88e03a2e5",
   "metadata": {},
   "outputs": [
    {
     "name": "stdin",
     "output_type": "stream",
     "text": [
      "Enter the number separated by spaces: 1 2 2 3 3 4 4 4 5 5\n"
     ]
    },
    {
     "name": "stdout",
     "output_type": "stream",
     "text": [
      "{1, 2, 3, 4, 5}\n"
     ]
    }
   ],
   "source": [
    "# Find all unique elements from a list.\n",
    "def unique_element(lst):\n",
    "    return set(lst)\n",
    "\n",
    "lst = list(map(int, input(\"Enter the number separated by spaces:\").split()))\n",
    "print(unique_element(lst))"
   ]
  },
  {
   "cell_type": "code",
   "execution_count": 19,
   "id": "60cc1596-92f8-41ac-8570-c3b25e16b373",
   "metadata": {},
   "outputs": [
    {
     "name": "stdin",
     "output_type": "stream",
     "text": [
      "Enter the number separated by spaces: 1 1 2 2 2 3 3 3 3 4 4 4 4 4\n"
     ]
    },
    {
     "name": "stdout",
     "output_type": "stream",
     "text": [
      "[1, 2, 3, 4]\n"
     ]
    }
   ],
   "source": [
    "# Find all unique elements from a list(using loop).\n",
    "def uni_elem(lst):\n",
    "    unique_element = []\n",
    "\n",
    "    for num in lst:\n",
    "        if num not in unique_element:\n",
    "            unique_element.append(num)\n",
    "    return unique_element\n",
    "\n",
    "lst = list(map(int, input(\"Enter the number separated by spaces:\").split()))\n",
    "print(uni_elem(lst))"
   ]
  },
  {
   "cell_type": "code",
   "execution_count": 22,
   "id": "ed0af70d-7bcc-40da-b131-a15bb0f2093d",
   "metadata": {},
   "outputs": [
    {
     "name": "stdin",
     "output_type": "stream",
     "text": [
      "Enter words separated by spaces:  apple banana cherry banana apple\n"
     ]
    },
    {
     "name": "stdout",
     "output_type": "stream",
     "text": [
      "{'apple': 2, 'banana': 2, 'cherry': 1}\n"
     ]
    }
   ],
   "source": [
    "# Count the frequency of each element in a list using a dictionary.\n",
    "def count_elements(lst):\n",
    "    count_dict = {}\n",
    "\n",
    "    for item in lst:\n",
    "        if item in count_dict:\n",
    "            count_dict[item] += 1\n",
    "        else:\n",
    "            count_dict[item] = 1\n",
    "    return count_dict\n",
    "\n",
    "words = input(\"Enter words separated by spaces: \").split()  \n",
    "print(count_elements(words))"
   ]
  },
  {
   "cell_type": "code",
   "execution_count": 24,
   "id": "09a718ac-ef3a-413b-b92a-2c8bbeeb4f68",
   "metadata": {},
   "outputs": [
    {
     "name": "stdout",
     "output_type": "stream",
     "text": [
      "[3, 4]\n"
     ]
    }
   ],
   "source": [
    "# Find the intersection of two lists.\n",
    "list1 = [1, 2, 3, 4]\n",
    "list2 = [3, 4, 5, 6]\n",
    "\n",
    "intersection = [x for x in list1 if x in list2]\n",
    "print(intersection)"
   ]
  },
  {
   "cell_type": "code",
   "execution_count": 28,
   "id": "f6d08207-d09b-4897-9962-6146248c3971",
   "metadata": {},
   "outputs": [
    {
     "name": "stdout",
     "output_type": "stream",
     "text": [
      "[1, 2, 3, 4, 5, 6]\n"
     ]
    }
   ],
   "source": [
    "# Find the union of two lists without duplicates.\n",
    "list1 = [1, 2, 3, 4]\n",
    "list2 = [3, 4, 5, 6]\n",
    "\n",
    "union = list1 + [x for x in list2 if x not in list1]\n",
    "print(union)"
   ]
  },
  {
   "cell_type": "code",
   "execution_count": 32,
   "id": "6d0a6908-01b5-4dc8-8d07-da52fad2c0be",
   "metadata": {},
   "outputs": [
    {
     "name": "stdout",
     "output_type": "stream",
     "text": [
      "[1, 2, 3, 4]\n"
     ]
    }
   ],
   "source": [
    "# Remove duplicates from a list.\n",
    "lst = [1, 2, 2, 3, 4, 4, 4]\n",
    "new_lst = []\n",
    "for num in lst:\n",
    "   if num not in new_lst:\n",
    "       new_lst.append(num)\n",
    "\n",
    "print(new_lst)"
   ]
  },
  {
   "cell_type": "code",
   "execution_count": 37,
   "id": "047d698f-4a3a-44ab-b9d1-3bf74e4f7bfb",
   "metadata": {},
   "outputs": [
    {
     "name": "stdin",
     "output_type": "stream",
     "text": [
      "Enter the list separated by spaces: 2 3 4 5 6\n"
     ]
    },
    {
     "name": "stdout",
     "output_type": "stream",
     "text": [
      "Reversed list: [6, 5, 4, 3, 2]\n"
     ]
    }
   ],
   "source": [
    "# Reverse a list.\n",
    "def reverse_lst(lst):\n",
    "    return lst[::-1]\n",
    "\n",
    "result = list(map(int, input(\"Enter the list separated by spaces:\").split()))\n",
    "print(\"Reversed list:\", reverse_lst(result))"
   ]
  },
  {
   "cell_type": "code",
   "execution_count": 36,
   "id": "bf633ec9-1655-4a66-9567-d3ceee91413d",
   "metadata": {},
   "outputs": [
    {
     "name": "stdin",
     "output_type": "stream",
     "text": [
      "Enter the list separated by spaces: 2 3 4 5 6\n"
     ]
    },
    {
     "name": "stdout",
     "output_type": "stream",
     "text": [
      "Reversed list: [6, 5, 4, 3, 2]\n"
     ]
    }
   ],
   "source": [
    "# Reverse a list without using reverse().\n",
    "def rev_lst(lst):\n",
    "    reversed_lst = []\n",
    "\n",
    "    for i in range(len(lst)-1, -1, -1):\n",
    "        reversed_lst.append(lst[i])\n",
    "    return reversed_lst\n",
    "\n",
    "result = list(map(int, input(\"Enter the list separated by spaces:\").split()))\n",
    "print(\"Reversed list:\", rev_lst(result))"
   ]
  },
  {
   "cell_type": "code",
   "execution_count": 40,
   "id": "300babfa-9fb3-4abd-9d11-0e9b689b3ad7",
   "metadata": {},
   "outputs": [
    {
     "name": "stdin",
     "output_type": "stream",
     "text": [
      "Enter the list separated by spaces: 1 2 3 4 5 6\n",
      "Enter the number of rotations(k): 2\n"
     ]
    },
    {
     "name": "stdout",
     "output_type": "stream",
     "text": [
      "List: [5, 6, 1, 2, 3, 4]\n"
     ]
    }
   ],
   "source": [
    "# Rotate a list k times to the right.\n",
    "def rotate_right(lst, k):\n",
    "    k = k % len(lst)\n",
    "\n",
    "    for _ in range(k):\n",
    "        last = lst.pop()\n",
    "        lst.insert(0, last)\n",
    "    return lst\n",
    "\n",
    "lst = list(map(int, input(\"Enter the list separated by spaces:\").split()))\n",
    "k = int(input(\"Enter the number of rotations(k):\"))\n",
    "print(\"List:\", rotate_right(lst, k))"
   ]
  },
  {
   "cell_type": "code",
   "execution_count": 45,
   "id": "738e489a-bf45-42b0-ba1c-ca6c14c831c4",
   "metadata": {},
   "outputs": [
    {
     "name": "stdin",
     "output_type": "stream",
     "text": [
      "Enter the list separated by spaces: 1 2 3 4 5 6\n",
      "Enter the number of rotations(k): 2\n"
     ]
    },
    {
     "name": "stdout",
     "output_type": "stream",
     "text": [
      "List: [3, 4, 5, 6, 1, 2]\n"
     ]
    }
   ],
   "source": [
    "# Rotate a list k times to the left.\n",
    "def rotate_left(lst, k):\n",
    "    k = k % len(lst)\n",
    "\n",
    "    for _ in range(k):\n",
    "        last = lst.pop(0)\n",
    "        lst.insert(len(lst), last)\n",
    "    return lst\n",
    "\n",
    "lst = list(map(int, input(\"Enter the list separated by spaces:\").split()))\n",
    "k = int(input(\"Enter the number of rotations(k):\"))\n",
    "print(\"List:\", rotate_left(lst, k))"
   ]
  }
 ],
 "metadata": {
  "kernelspec": {
   "display_name": "Python [conda env:base] *",
   "language": "python",
   "name": "conda-base-py"
  },
  "language_info": {
   "codemirror_mode": {
    "name": "ipython",
    "version": 3
   },
   "file_extension": ".py",
   "mimetype": "text/x-python",
   "name": "python",
   "nbconvert_exporter": "python",
   "pygments_lexer": "ipython3",
   "version": "3.12.4"
  }
 },
 "nbformat": 4,
 "nbformat_minor": 5
}
