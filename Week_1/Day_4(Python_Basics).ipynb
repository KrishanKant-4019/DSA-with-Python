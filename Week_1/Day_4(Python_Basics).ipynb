{
 "cells": [
  {
   "cell_type": "code",
   "execution_count": 3,
   "id": "58524c8a-1454-44c8-b500-d0287736b923",
   "metadata": {},
   "outputs": [
    {
     "name": "stdin",
     "output_type": "stream",
     "text": [
      "Enter the number: 5\n"
     ]
    },
    {
     "name": "stdout",
     "output_type": "stream",
     "text": [
      "True\n"
     ]
    }
   ],
   "source": [
    "# Write a recursive function to check if a number is prime.\n",
    "def is_prime(n, divisor=2):\n",
    "    if n < 2:\n",
    "        return \"Prime numbers can't be less than 2!\"\n",
    "    if divisor * divisor > n:   \n",
    "        return True\n",
    "    if n % divisor == 0:       \n",
    "        return False\n",
    "    return is_prime(n, divisor + 1) \n",
    "\n",
    "num = int(input(\"Enter the number:\"))\n",
    "print(is_prime(num))"
   ]
  },
  {
   "cell_type": "code",
   "execution_count": 4,
   "id": "2eb48f13-9a3a-49fd-8c2d-e0531c8d22de",
   "metadata": {},
   "outputs": [
    {
     "name": "stdin",
     "output_type": "stream",
     "text": [
      "Enter numbers separated by spaces:  3 2 4 5 6 \n"
     ]
    },
    {
     "name": "stdout",
     "output_type": "stream",
     "text": [
      "Minimum = 2, Maximum = 6\n"
     ]
    }
   ],
   "source": [
    "# Write a function to return maximum and minimum of a list.\n",
    "def min_max_list(lst):\n",
    "    min_val = lst[0]\n",
    "    max_val = lst[0]\n",
    "\n",
    "    for num in lst:\n",
    "        if num < min_val:\n",
    "            min_val = num\n",
    "        if num > max_val:\n",
    "            max_val = num\n",
    "    return min_val, max_val\n",
    "\n",
    "user_input = input(\"Enter numbers separated by spaces: \")\n",
    "lst = list(map(int, user_input.split()))\n",
    "\n",
    "minimum, maximum = min_max_list(lst)\n",
    "print(f\"Minimum = {minimum}, Maximum = {maximum}\")"
   ]
  },
  {
   "cell_type": "code",
   "execution_count": 5,
   "id": "3babd2e2-2e26-4b72-8f48-754df8d1d6b4",
   "metadata": {},
   "outputs": [
    {
     "name": "stdin",
     "output_type": "stream",
     "text": [
      "Enter the number: 6\n"
     ]
    },
    {
     "name": "stdout",
     "output_type": "stream",
     "text": [
      "21\n"
     ]
    }
   ],
   "source": [
    "# Write a function to compute sum of numbers from 1 to n using recursion.\n",
    "def sum_num(n):\n",
    "    if n <= 0:\n",
    "        return -1\n",
    "    elif n == 1:\n",
    "        return 1\n",
    "    else:\n",
    "        return n + sum_num(n-1)\n",
    "\n",
    "num = int(input(\"Enter the number:\"))\n",
    "print(sum_num(num))"
   ]
  },
  {
   "cell_type": "code",
   "execution_count": 7,
   "id": "ac427ad5-0d1f-43ba-9908-70e188961147",
   "metadata": {},
   "outputs": [
    {
     "name": "stdin",
     "output_type": "stream",
     "text": [
      "Enter the number: 6\n"
     ]
    },
    {
     "name": "stdout",
     "output_type": "stream",
     "text": [
      "Thank you\n"
     ]
    }
   ],
   "source": [
    "# Write a function that raises an error if input is negative.\n",
    "try:\n",
    "    num = int(input(\"Enter the number:\"))\n",
    "    if num < 0:\n",
    "        raise ValueError(\"Please enter a positive number!\")\n",
    "    else:\n",
    "        print(\"Thank you\")\n",
    "except ValueError as e:\n",
    "    print(\"Error:\", e)"
   ]
  },
  {
   "cell_type": "code",
   "execution_count": 9,
   "id": "65eb5891-8828-471a-9122-113330dbd483",
   "metadata": {},
   "outputs": [
    {
     "name": "stdin",
     "output_type": "stream",
     "text": [
      "Enter numerator:  5\n",
      "Enter denominator:  0\n"
     ]
    },
    {
     "name": "stdout",
     "output_type": "stream",
     "text": [
      "Error: Division by zero is not allowed.\n"
     ]
    }
   ],
   "source": [
    "# Handle division by zero error gracefully.\n",
    "try:\n",
    "    num1 = int(input(\"Enter numerator: \"))\n",
    "    num2 = int(input(\"Enter denominator: \"))\n",
    "    result = num1 / num2\n",
    "    print(\"Result:\", result)\n",
    "\n",
    "except ZeroDivisionError:\n",
    "    print(\"Error: Division by zero is not allowed.\")\n",
    "\n",
    "except ValueError:\n",
    "    print(\"Error: Please enter valid integers.\")"
   ]
  }
 ],
 "metadata": {
  "kernelspec": {
   "display_name": "Python [conda env:base] *",
   "language": "python",
   "name": "conda-base-py"
  },
  "language_info": {
   "codemirror_mode": {
    "name": "ipython",
    "version": 3
   },
   "file_extension": ".py",
   "mimetype": "text/x-python",
   "name": "python",
   "nbconvert_exporter": "python",
   "pygments_lexer": "ipython3",
   "version": "3.12.4"
  }
 },
 "nbformat": 4,
 "nbformat_minor": 5
}
