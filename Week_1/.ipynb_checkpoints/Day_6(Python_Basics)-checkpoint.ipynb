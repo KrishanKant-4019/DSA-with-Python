{
 "cells": [
  {
   "cell_type": "code",
   "execution_count": 4,
   "id": "8bc24cef-67ad-43ae-b3c5-f55c63be4760",
   "metadata": {},
   "outputs": [
    {
     "name": "stdout",
     "output_type": "stream",
     "text": [
      "[1, 4, 9, 16, 25]\n"
     ]
    }
   ],
   "source": [
    "# Use map to square all numbers in a list.\n",
    "numbers = [1, 2, 3, 4, 5]\n",
    "squared = list(map(lambda x: x ** 2, numbers))\n",
    "print(result)"
   ]
  },
  {
   "cell_type": "code",
   "execution_count": 7,
   "id": "1e9e3f92-40be-446a-9436-187a9dc0b044",
   "metadata": {},
   "outputs": [
    {
     "name": "stdout",
     "output_type": "stream",
     "text": [
      "[1, 2, 3, 4, 5]\n"
     ]
    }
   ],
   "source": [
    "# Use map to convert list of strings into integers.\n",
    "strings = ['1', '2', '3', '4', '5']\n",
    "result = list(map(int, strings))\n",
    "print(result)"
   ]
  },
  {
   "cell_type": "code",
   "execution_count": 11,
   "id": "f06a2edd-3879-4b90-8b97-5f2c0aeae97b",
   "metadata": {},
   "outputs": [
    {
     "name": "stdout",
     "output_type": "stream",
     "text": [
      "[2, 3, 5, 7]\n"
     ]
    }
   ],
   "source": [
    "# Use filter to extract all prime numbers from a list.\n",
    "numbers = [1, 2, 3, 4, 5, 6, 7, 8]\n",
    "result = list(filter(\n",
    "        lambda n: n > 1 and all(n % i != 0 for i in range(2, int(n ** 0.5)+1)), numbers))\n",
    "print(result)"
   ]
  },
  {
   "cell_type": "code",
   "execution_count": 13,
   "id": "50012784-b735-4dcf-92fe-45ca5feb246f",
   "metadata": {},
   "outputs": [
    {
     "name": "stdout",
     "output_type": "stream",
     "text": [
      "['madam', 'level', 'radar']\n"
     ]
    }
   ],
   "source": [
    "# Use filter to extract all palindromes from a list of strings.\n",
    "words = [\"madam\", \"hello\", \"level\", \"world\", \"radar\", \"python\"]\n",
    "result = list(filter(lambda w: w == w[::-1], words))\n",
    "print(result)"
   ]
  },
  {
   "cell_type": "code",
   "execution_count": 14,
   "id": "5767e92a-2ab0-4a3c-8315-8265e8248b9d",
   "metadata": {},
   "outputs": [
    {
     "name": "stdout",
     "output_type": "stream",
     "text": [
      "15\n"
     ]
    }
   ],
   "source": [
    "# Use reduce to find sum of a list.\n",
    "from functools import reduce\n",
    "numbers = [1, 2, 3, 4, 5]\n",
    "result = reduce(lambda x, y: x + y, numbers)\n",
    "print(result)"
   ]
  },
  {
   "cell_type": "code",
   "execution_count": 19,
   "id": "c9bff190-4bf5-464c-840e-e6aecf0ca2a9",
   "metadata": {},
   "outputs": [
    {
     "name": "stdout",
     "output_type": "stream",
     "text": [
      "120\n"
     ]
    }
   ],
   "source": [
    "# Use reduce to find product of a list.\n",
    "numbers = [1, 2, 3, 4, 5]\n",
    "result = reduce(lambda x, y: x * y, numbers)\n",
    "print(result)"
   ]
  },
  {
   "cell_type": "code",
   "execution_count": 28,
   "id": "04a7e117-9e4d-4da4-80a9-1e7334ce6783",
   "metadata": {},
   "outputs": [
    {
     "name": "stdout",
     "output_type": "stream",
     "text": [
      "[(1, 'a'), (2, 'b'), (3, 'c'), (4, 'd'), (5, 'e')]\n"
     ]
    }
   ],
   "source": [
    "# Use zip to merge two lists into pairs.\n",
    "list1 = [1, 2, 3, 4, 5]\n",
    "list2 = ['a', 'b', 'c', 'd', 'e']\n",
    "result = list(zip(list1, list2))\n",
    "print(result)"
   ]
  },
  {
   "cell_type": "code",
   "execution_count": 29,
   "id": "6b51120f-56c4-4ef8-ba5d-0c32906d0c8e",
   "metadata": {},
   "outputs": [
    {
     "name": "stdout",
     "output_type": "stream",
     "text": [
      "[7, 9, 11, 13, 15]\n"
     ]
    }
   ],
   "source": [
    "# Use zip to add element-wise two lists.\n",
    "list1 = [1, 2, 3, 4, 5]\n",
    "list2 = [6, 7, 8, 9, 10]\n",
    "result = [x + y for x, y in zip(list1, list2)]\n",
    "print(result)"
   ]
  },
  {
   "cell_type": "code",
   "execution_count": 32,
   "id": "0848e45f-fcdb-4bd1-9d8c-a95c5808cbe3",
   "metadata": {},
   "outputs": [
    {
     "name": "stdout",
     "output_type": "stream",
     "text": [
      "0 apple\n",
      "1 banana\n",
      "2 cherry\n",
      "3 pomegranate\n",
      "4 pineapple\n"
     ]
    }
   ],
   "source": [
    "# Use enumerate to print index and element of a list.\n",
    "fruits = [\"apple\", \"banana\", \"cherry\", \"pomegranate\", \"pineapple\"]\n",
    "for index, fruit in enumerate(fruits):\n",
    "    print(index, fruit)"
   ]
  },
  {
   "cell_type": "code",
   "execution_count": 36,
   "id": "e4055de5-794b-4131-8e90-79bd9924b102",
   "metadata": {},
   "outputs": [
    {
     "name": "stdout",
     "output_type": "stream",
     "text": [
      "[98.6, 104.0, 113.0, 116.6, 122.0]\n"
     ]
    }
   ],
   "source": [
    "# Use map + lambda to convert Celsius to Fahrenheit.\n",
    "celsius = [37, 40, 45, 47, 50]\n",
    "fahrenheit = list(map(lambda c: (9 * c) / 5 + 32, celsius))\n",
    "print(fahrenheit)"
   ]
  },
  {
   "cell_type": "code",
   "execution_count": 37,
   "id": "1d721ff3-a18f-4c30-b46d-09f3caad2c6e",
   "metadata": {},
   "outputs": [
    {
     "name": "stdout",
     "output_type": "stream",
     "text": [
      "[2, 4, 6, 8, 10]\n"
     ]
    }
   ],
   "source": [
    "# Use filter + lambda to filter even numbers from a list.\n",
    "numbers = [1, 2, 3, 4, 5, 6, 7, 8, 9, 10]\n",
    "result = list(filter(lambda x: x % 2 == 0, numbers))\n",
    "print(result)"
   ]
  },
  {
   "cell_type": "code",
   "execution_count": 39,
   "id": "fc3dd678-6adc-48a0-8f01-d38c35abf91e",
   "metadata": {},
   "outputs": [
    {
     "name": "stdout",
     "output_type": "stream",
     "text": [
      "10\n"
     ]
    }
   ],
   "source": [
    "# Use reduce to find the maximum element in a list.\n",
    "numbers = [1, 2, 3, 4, 5, 6, 7, 8, 9, 10]\n",
    "result = reduce(lambda a, b: a if a > b else b, numbers)\n",
    "print(result)"
   ]
  },
  {
   "cell_type": "code",
   "execution_count": 43,
   "id": "fa3ae60d-9c9c-44d1-9d78-70a2a9e17d2a",
   "metadata": {},
   "outputs": [
    {
     "name": "stdout",
     "output_type": "stream",
     "text": [
      "[2, 4, 2, 7, 4, 3]\n"
     ]
    }
   ],
   "source": [
    "# Use map to find length of each word in a sentence.\n",
    "sentence = \"My name is Krishan Kant Jha\".split()\n",
    "result = list(map(len, sentence))\n",
    "print(result)"
   ]
  },
  {
   "cell_type": "code",
   "execution_count": 45,
   "id": "d89d86f0-729b-4751-a337-8dbdea766d4c",
   "metadata": {},
   "outputs": [
    {
     "name": "stdout",
     "output_type": "stream",
     "text": [
      "[(1, 4, 7), (2, 5, 8), (3, 6, 9)]\n"
     ]
    }
   ],
   "source": [
    "# Use zip to transpose a matrix.\n",
    "matrix = [\n",
    "    [1, 2, 3],\n",
    "    [4, 5, 6],\n",
    "    [7, 8, 9]\n",
    "]\n",
    "transposed = list(zip(*matrix))\n",
    "print(transposed)"
   ]
  },
  {
   "cell_type": "code",
   "execution_count": 48,
   "id": "1ee110cc-19ed-4257-81b3-a907f799fa39",
   "metadata": {},
   "outputs": [
    {
     "name": "stdout",
     "output_type": "stream",
     "text": [
      "2\n"
     ]
    }
   ],
   "source": [
    "# Use enumerate to find index of maximum element in a list.\n",
    "numbers = [1, 2, 5, 4, 3]\n",
    "\n",
    "max_value = numbers[0]\n",
    "max_index = 0\n",
    "\n",
    "for index, value in enumerate(numbers):\n",
    "    if value > max_value:\n",
    "        max_value = value\n",
    "        max_index = index\n",
    "\n",
    "print(max_index)"
   ]
  }
 ],
 "metadata": {
  "kernelspec": {
   "display_name": "Python [conda env:base] *",
   "language": "python",
   "name": "conda-base-py"
  },
  "language_info": {
   "codemirror_mode": {
    "name": "ipython",
    "version": 3
   },
   "file_extension": ".py",
   "mimetype": "text/x-python",
   "name": "python",
   "nbconvert_exporter": "python",
   "pygments_lexer": "ipython3",
   "version": "3.12.4"
  }
 },
 "nbformat": 4,
 "nbformat_minor": 5
}
